{
 "cells": [
  {
   "cell_type": "markdown",
   "id": "34eb17b6",
   "metadata": {},
   "source": [
    "# <center> ⚡ Lightning практика 🛠\n",
    "\n",
    "В этом шаге предлагаем вам попрактиковаться в переносе кода обучения нейросети с `PyTorch` на `PyTorch Lightning`.\n",
    "\n",
    "Вам дан ноутбук с обучением простой свёрточной нейросети, реализованной на чистом `PyTorch`, которую необходимо перенести на `PyTorch Ligthning` и обучить её с помощью `Trainer`, выполнив все условия.\n",
    "\n",
    "Вам необходимо сдать файл с расширением любое_имя.py в котором:\n",
    "\n",
    "**Основное задание (5 баллов):**\n",
    "\n",
    "* Будет загрузка датасета\n",
    "* Создание `LightningDataModule`\n",
    "* Создание `LightningModule`\n",
    "* Обучение модели с помощью `Trainer`  и сохранение её весов\n",
    "* Запуск инференса модели на одном образце из теста\n",
    "\n",
    "**Дополнительное задание (2 балла):**\n",
    "\n",
    "* Добавьте считывание параметра `--fast_dev_run` при запуске файла на исполнение, который будет отвечать за проверочный прогон сетки на 1 эпохе (значение по умолчанию `False`).\n",
    "* В случае успеха выводить в консоль сообщение: `\"Тестовый прогон успешно пройден\"`. Далее работа скрипта продолжается в обычном режиме.\n",
    "* В случае неудачи выводить в консоль сообщение: `\"Тестовый прогон завершился с ошибкой\"`. После чего дальнейшая работа скрипта должна завершиться.\n",
    "  \n",
    "Пример команды: `python любое_имя.py --fast_dev_run True`\n",
    "  \n",
    "Файл должен запускаться командой `python любое_имя.py` и отрабатывать до конца без падений."
   ]
  },
  {
   "cell_type": "markdown",
   "id": "a1a30175",
   "metadata": {},
   "source": [
    "<div class=\"alert alert-warning\">\n",
    "\n",
    "<p style=\"text-align: center;\"> ВАЖНО! 👺 </p>\n",
    "\n",
    "Если на каком-то ресурсе вы видите `pip install pytorch-lightning` - значит вы собираетесь использовать старое API 😯! Функции обратно совместимы, но их импорт может отличаться - будьте аккуратны и устанавливайте только свежие версии библиотек."
   ]
  },
  {
   "cell_type": "code",
   "execution_count": 35,
   "id": "bf13ed25",
   "metadata": {},
   "outputs": [
    {
     "name": "stderr",
     "output_type": "stream",
     "text": [
      "WARNING: Ignoring invalid distribution ~orch (D:\\jupyter_venv\\Lib\\site-packages)\n",
      "WARNING: Ignoring invalid distribution ~otebook (D:\\jupyter_venv\\Lib\\site-packages)\n",
      "WARNING: Ignoring invalid distribution ~ympy (D:\\jupyter_venv\\Lib\\site-packages)\n",
      "WARNING: Ignoring invalid distribution ~orch (D:\\jupyter_venv\\Lib\\site-packages)\n",
      "WARNING: Ignoring invalid distribution ~otebook (D:\\jupyter_venv\\Lib\\site-packages)\n",
      "WARNING: Ignoring invalid distribution ~ympy (D:\\jupyter_venv\\Lib\\site-packages)\n",
      "WARNING: Ignoring invalid distribution ~orch (D:\\jupyter_venv\\Lib\\site-packages)\n",
      "WARNING: Ignoring invalid distribution ~otebook (D:\\jupyter_venv\\Lib\\site-packages)\n",
      "WARNING: Ignoring invalid distribution ~ympy (D:\\jupyter_venv\\Lib\\site-packages)\n",
      "\n",
      "[notice] A new release of pip is available: 25.0 -> 25.0.1\n",
      "[notice] To update, run: python.exe -m pip install --upgrade pip\n"
     ]
    }
   ],
   "source": [
    "# Установка Pytorch Lightning\n",
    "!pip install lightning -q"
   ]
  },
  {
   "cell_type": "code",
   "execution_count": 1,
   "id": "b23ae006",
   "metadata": {
    "_cell_guid": "b1076dfc-b9ad-4769-8c92-a6c4dae69d19",
    "_uuid": "8f2839f25d086af736a60e9eeb907d3b93b6e0e5",
    "papermill": {
     "duration": 0.065149,
     "end_time": "2021-09-09T07:56:04.152997",
     "exception": false,
     "start_time": "2021-09-09T07:56:04.087848",
     "status": "completed"
    },
    "tags": []
   },
   "outputs": [],
   "source": [
    "import numpy as np\n",
    "import pandas as pd"
   ]
  },
  {
   "cell_type": "code",
   "execution_count": 2,
   "id": "c3a7526a",
   "metadata": {
    "papermill": {
     "duration": 1.434109,
     "end_time": "2021-09-09T07:56:05.611005",
     "exception": false,
     "start_time": "2021-09-09T07:56:04.176896",
     "status": "completed"
    },
    "tags": []
   },
   "outputs": [],
   "source": [
    "import time\n",
    "import os\n",
    "import sys\n",
    "from pathlib import Path\n",
    "from tqdm import tqdm\n",
    "import matplotlib.pyplot as plt\n",
    "\n",
    "import torch\n",
    "from torch import nn\n",
    "from torch import optim\n",
    "from torch.nn import functional as F\n",
    "import torch.utils.data as data\n",
    "\n",
    "\n",
    "import torchvision\n",
    "import torchvision.transforms as transforms\n",
    "import torchvision.models as models"
   ]
  },
  {
   "cell_type": "code",
   "execution_count": 3,
   "id": "82d124c9",
   "metadata": {
    "papermill": {
     "duration": 0.083682,
     "end_time": "2021-09-09T07:56:05.732928",
     "exception": false,
     "start_time": "2021-09-09T07:56:05.649246",
     "status": "completed"
    },
    "tags": []
   },
   "outputs": [
    {
     "data": {
      "text/plain": [
       "'cpu'"
      ]
     },
     "execution_count": 3,
     "metadata": {},
     "output_type": "execute_result"
    }
   ],
   "source": [
    "device = 'cuda' if torch.cuda.is_available() else 'cpu'\n",
    "device"
   ]
  },
  {
   "cell_type": "markdown",
   "id": "70f85c5d",
   "metadata": {},
   "source": [
    "# Загружаем датасет Sign Language MNIST\n",
    "\n",
    "Датасет представляет из себя 2 CSV файла - трэйн и тест сплиты. \n",
    "Каждая запись представляет из себя: \n",
    "* метку (номер буквы в алфавите)\n",
    "* значения каждого из 780 пикселей изображения.\n",
    "<img src=\"../data/amer_sign2.png\"/>"
   ]
  },
  {
   "cell_type": "code",
   "execution_count": 4,
   "id": "6c8dfa9d",
   "metadata": {},
   "outputs": [],
   "source": [
    "%%capture\n",
    "# Для запуска в колаб\n",
    "# !mkdir ../data/\n",
    "# !wget -P ../data https://github.com/a-milenkin/ml_instruments/raw/refs/heads/main/data/sign_mnist_train.csv.zip\n",
    "# !wget -P ../data https://github.com/a-milenkin/ml_instruments/raw/refs/heads/main/data/sign_mnist_test.csv.zip\n",
    "# !wget -P ../data https://github.com/a-milenkin/ml_instruments/raw/refs/heads/main/data/amer_sign2.png\n",
    "# !wget -P ../data https://github.com/a-milenkin/ml_instruments/raw/refs/heads/main/data/amer_sign3.png\n",
    "# !wget -P ../data https://github.com/a-milenkin/ml_instruments/raw/refs/heads/main/data/american_sign_language.PNG\n",
    "\n",
    "!unzip ../data/sign_mnist_train.csv.zip -d ../data/\n",
    "!unzip ../data/sign_mnist_test.csv.zip -d ../data/"
   ]
  },
  {
   "cell_type": "code",
   "execution_count": 5,
   "id": "c3df0a8f",
   "metadata": {
    "papermill": {
     "duration": 4.781045,
     "end_time": "2021-09-09T07:56:10.583738",
     "exception": false,
     "start_time": "2021-09-09T07:56:05.802693",
     "status": "completed"
    },
    "tags": []
   },
   "outputs": [],
   "source": [
    "train = pd.read_csv('../data/sign_mnist_train.csv')\n",
    "test = pd.read_csv('../data/sign_mnist_test.csv')"
   ]
  },
  {
   "cell_type": "code",
   "execution_count": 6,
   "id": "57f66945",
   "metadata": {},
   "outputs": [
    {
     "data": {
      "text/html": [
       "<div>\n",
       "<style scoped>\n",
       "    .dataframe tbody tr th:only-of-type {\n",
       "        vertical-align: middle;\n",
       "    }\n",
       "\n",
       "    .dataframe tbody tr th {\n",
       "        vertical-align: top;\n",
       "    }\n",
       "\n",
       "    .dataframe thead th {\n",
       "        text-align: right;\n",
       "    }\n",
       "</style>\n",
       "<table border=\"1\" class=\"dataframe\">\n",
       "  <thead>\n",
       "    <tr style=\"text-align: right;\">\n",
       "      <th></th>\n",
       "      <th>label</th>\n",
       "      <th>pixel1</th>\n",
       "      <th>pixel2</th>\n",
       "      <th>pixel3</th>\n",
       "      <th>pixel4</th>\n",
       "      <th>pixel5</th>\n",
       "      <th>pixel6</th>\n",
       "      <th>pixel7</th>\n",
       "      <th>pixel8</th>\n",
       "      <th>pixel9</th>\n",
       "      <th>...</th>\n",
       "      <th>pixel775</th>\n",
       "      <th>pixel776</th>\n",
       "      <th>pixel777</th>\n",
       "      <th>pixel778</th>\n",
       "      <th>pixel779</th>\n",
       "      <th>pixel780</th>\n",
       "      <th>pixel781</th>\n",
       "      <th>pixel782</th>\n",
       "      <th>pixel783</th>\n",
       "      <th>pixel784</th>\n",
       "    </tr>\n",
       "  </thead>\n",
       "  <tbody>\n",
       "    <tr>\n",
       "      <th>0</th>\n",
       "      <td>3</td>\n",
       "      <td>107</td>\n",
       "      <td>118</td>\n",
       "      <td>127</td>\n",
       "      <td>134</td>\n",
       "      <td>139</td>\n",
       "      <td>143</td>\n",
       "      <td>146</td>\n",
       "      <td>150</td>\n",
       "      <td>153</td>\n",
       "      <td>...</td>\n",
       "      <td>207</td>\n",
       "      <td>207</td>\n",
       "      <td>207</td>\n",
       "      <td>207</td>\n",
       "      <td>206</td>\n",
       "      <td>206</td>\n",
       "      <td>206</td>\n",
       "      <td>204</td>\n",
       "      <td>203</td>\n",
       "      <td>202</td>\n",
       "    </tr>\n",
       "    <tr>\n",
       "      <th>1</th>\n",
       "      <td>6</td>\n",
       "      <td>155</td>\n",
       "      <td>157</td>\n",
       "      <td>156</td>\n",
       "      <td>156</td>\n",
       "      <td>156</td>\n",
       "      <td>157</td>\n",
       "      <td>156</td>\n",
       "      <td>158</td>\n",
       "      <td>158</td>\n",
       "      <td>...</td>\n",
       "      <td>69</td>\n",
       "      <td>149</td>\n",
       "      <td>128</td>\n",
       "      <td>87</td>\n",
       "      <td>94</td>\n",
       "      <td>163</td>\n",
       "      <td>175</td>\n",
       "      <td>103</td>\n",
       "      <td>135</td>\n",
       "      <td>149</td>\n",
       "    </tr>\n",
       "    <tr>\n",
       "      <th>2</th>\n",
       "      <td>2</td>\n",
       "      <td>187</td>\n",
       "      <td>188</td>\n",
       "      <td>188</td>\n",
       "      <td>187</td>\n",
       "      <td>187</td>\n",
       "      <td>186</td>\n",
       "      <td>187</td>\n",
       "      <td>188</td>\n",
       "      <td>187</td>\n",
       "      <td>...</td>\n",
       "      <td>202</td>\n",
       "      <td>201</td>\n",
       "      <td>200</td>\n",
       "      <td>199</td>\n",
       "      <td>198</td>\n",
       "      <td>199</td>\n",
       "      <td>198</td>\n",
       "      <td>195</td>\n",
       "      <td>194</td>\n",
       "      <td>195</td>\n",
       "    </tr>\n",
       "    <tr>\n",
       "      <th>3</th>\n",
       "      <td>2</td>\n",
       "      <td>211</td>\n",
       "      <td>211</td>\n",
       "      <td>212</td>\n",
       "      <td>212</td>\n",
       "      <td>211</td>\n",
       "      <td>210</td>\n",
       "      <td>211</td>\n",
       "      <td>210</td>\n",
       "      <td>210</td>\n",
       "      <td>...</td>\n",
       "      <td>235</td>\n",
       "      <td>234</td>\n",
       "      <td>233</td>\n",
       "      <td>231</td>\n",
       "      <td>230</td>\n",
       "      <td>226</td>\n",
       "      <td>225</td>\n",
       "      <td>222</td>\n",
       "      <td>229</td>\n",
       "      <td>163</td>\n",
       "    </tr>\n",
       "    <tr>\n",
       "      <th>4</th>\n",
       "      <td>13</td>\n",
       "      <td>164</td>\n",
       "      <td>167</td>\n",
       "      <td>170</td>\n",
       "      <td>172</td>\n",
       "      <td>176</td>\n",
       "      <td>179</td>\n",
       "      <td>180</td>\n",
       "      <td>184</td>\n",
       "      <td>185</td>\n",
       "      <td>...</td>\n",
       "      <td>92</td>\n",
       "      <td>105</td>\n",
       "      <td>105</td>\n",
       "      <td>108</td>\n",
       "      <td>133</td>\n",
       "      <td>163</td>\n",
       "      <td>157</td>\n",
       "      <td>163</td>\n",
       "      <td>164</td>\n",
       "      <td>179</td>\n",
       "    </tr>\n",
       "  </tbody>\n",
       "</table>\n",
       "<p>5 rows × 785 columns</p>\n",
       "</div>"
      ],
      "text/plain": [
       "   label  pixel1  pixel2  pixel3  pixel4  pixel5  pixel6  pixel7  pixel8  \\\n",
       "0      3     107     118     127     134     139     143     146     150   \n",
       "1      6     155     157     156     156     156     157     156     158   \n",
       "2      2     187     188     188     187     187     186     187     188   \n",
       "3      2     211     211     212     212     211     210     211     210   \n",
       "4     13     164     167     170     172     176     179     180     184   \n",
       "\n",
       "   pixel9  ...  pixel775  pixel776  pixel777  pixel778  pixel779  pixel780  \\\n",
       "0     153  ...       207       207       207       207       206       206   \n",
       "1     158  ...        69       149       128        87        94       163   \n",
       "2     187  ...       202       201       200       199       198       199   \n",
       "3     210  ...       235       234       233       231       230       226   \n",
       "4     185  ...        92       105       105       108       133       163   \n",
       "\n",
       "   pixel781  pixel782  pixel783  pixel784  \n",
       "0       206       204       203       202  \n",
       "1       175       103       135       149  \n",
       "2       198       195       194       195  \n",
       "3       225       222       229       163  \n",
       "4       157       163       164       179  \n",
       "\n",
       "[5 rows x 785 columns]"
      ]
     },
     "execution_count": 6,
     "metadata": {},
     "output_type": "execute_result"
    }
   ],
   "source": [
    "train.head()"
   ]
  },
  {
   "cell_type": "code",
   "execution_count": 7,
   "id": "478bd306",
   "metadata": {},
   "outputs": [
    {
     "data": {
      "text/html": [
       "<div>\n",
       "<style scoped>\n",
       "    .dataframe tbody tr th:only-of-type {\n",
       "        vertical-align: middle;\n",
       "    }\n",
       "\n",
       "    .dataframe tbody tr th {\n",
       "        vertical-align: top;\n",
       "    }\n",
       "\n",
       "    .dataframe thead th {\n",
       "        text-align: right;\n",
       "    }\n",
       "</style>\n",
       "<table border=\"1\" class=\"dataframe\">\n",
       "  <thead>\n",
       "    <tr style=\"text-align: right;\">\n",
       "      <th></th>\n",
       "      <th>label</th>\n",
       "      <th>pixel1</th>\n",
       "      <th>pixel2</th>\n",
       "      <th>pixel3</th>\n",
       "      <th>pixel4</th>\n",
       "      <th>pixel5</th>\n",
       "      <th>pixel6</th>\n",
       "      <th>pixel7</th>\n",
       "      <th>pixel8</th>\n",
       "      <th>pixel9</th>\n",
       "      <th>...</th>\n",
       "      <th>pixel775</th>\n",
       "      <th>pixel776</th>\n",
       "      <th>pixel777</th>\n",
       "      <th>pixel778</th>\n",
       "      <th>pixel779</th>\n",
       "      <th>pixel780</th>\n",
       "      <th>pixel781</th>\n",
       "      <th>pixel782</th>\n",
       "      <th>pixel783</th>\n",
       "      <th>pixel784</th>\n",
       "    </tr>\n",
       "  </thead>\n",
       "  <tbody>\n",
       "    <tr>\n",
       "      <th>0</th>\n",
       "      <td>6</td>\n",
       "      <td>149</td>\n",
       "      <td>149</td>\n",
       "      <td>150</td>\n",
       "      <td>150</td>\n",
       "      <td>150</td>\n",
       "      <td>151</td>\n",
       "      <td>151</td>\n",
       "      <td>150</td>\n",
       "      <td>151</td>\n",
       "      <td>...</td>\n",
       "      <td>138</td>\n",
       "      <td>148</td>\n",
       "      <td>127</td>\n",
       "      <td>89</td>\n",
       "      <td>82</td>\n",
       "      <td>96</td>\n",
       "      <td>106</td>\n",
       "      <td>112</td>\n",
       "      <td>120</td>\n",
       "      <td>107</td>\n",
       "    </tr>\n",
       "    <tr>\n",
       "      <th>1</th>\n",
       "      <td>5</td>\n",
       "      <td>126</td>\n",
       "      <td>128</td>\n",
       "      <td>131</td>\n",
       "      <td>132</td>\n",
       "      <td>133</td>\n",
       "      <td>134</td>\n",
       "      <td>135</td>\n",
       "      <td>135</td>\n",
       "      <td>136</td>\n",
       "      <td>...</td>\n",
       "      <td>47</td>\n",
       "      <td>104</td>\n",
       "      <td>194</td>\n",
       "      <td>183</td>\n",
       "      <td>186</td>\n",
       "      <td>184</td>\n",
       "      <td>184</td>\n",
       "      <td>184</td>\n",
       "      <td>182</td>\n",
       "      <td>180</td>\n",
       "    </tr>\n",
       "    <tr>\n",
       "      <th>2</th>\n",
       "      <td>10</td>\n",
       "      <td>85</td>\n",
       "      <td>88</td>\n",
       "      <td>92</td>\n",
       "      <td>96</td>\n",
       "      <td>105</td>\n",
       "      <td>123</td>\n",
       "      <td>135</td>\n",
       "      <td>143</td>\n",
       "      <td>147</td>\n",
       "      <td>...</td>\n",
       "      <td>68</td>\n",
       "      <td>166</td>\n",
       "      <td>242</td>\n",
       "      <td>227</td>\n",
       "      <td>230</td>\n",
       "      <td>227</td>\n",
       "      <td>226</td>\n",
       "      <td>225</td>\n",
       "      <td>224</td>\n",
       "      <td>222</td>\n",
       "    </tr>\n",
       "  </tbody>\n",
       "</table>\n",
       "<p>3 rows × 785 columns</p>\n",
       "</div>"
      ],
      "text/plain": [
       "   label  pixel1  pixel2  pixel3  pixel4  pixel5  pixel6  pixel7  pixel8  \\\n",
       "0      6     149     149     150     150     150     151     151     150   \n",
       "1      5     126     128     131     132     133     134     135     135   \n",
       "2     10      85      88      92      96     105     123     135     143   \n",
       "\n",
       "   pixel9  ...  pixel775  pixel776  pixel777  pixel778  pixel779  pixel780  \\\n",
       "0     151  ...       138       148       127        89        82        96   \n",
       "1     136  ...        47       104       194       183       186       184   \n",
       "2     147  ...        68       166       242       227       230       227   \n",
       "\n",
       "   pixel781  pixel782  pixel783  pixel784  \n",
       "0       106       112       120       107  \n",
       "1       184       184       182       180  \n",
       "2       226       225       224       222  \n",
       "\n",
       "[3 rows x 785 columns]"
      ]
     },
     "execution_count": 7,
     "metadata": {},
     "output_type": "execute_result"
    }
   ],
   "source": [
    "test.head(3)"
   ]
  },
  {
   "cell_type": "markdown",
   "id": "c1b220a0",
   "metadata": {
    "papermill": {
     "duration": 0.023091,
     "end_time": "2021-09-09T07:56:05.779365",
     "exception": false,
     "start_time": "2021-09-09T07:56:05.756274",
     "status": "completed"
    },
    "tags": []
   },
   "source": [
    "## Определяем Pytorch Dataset and Dataloader:\n",
    "\n"
   ]
  },
  {
   "cell_type": "code",
   "execution_count": 8,
   "id": "83c237b5",
   "metadata": {
    "papermill": {
     "duration": 0.031774,
     "end_time": "2021-09-09T07:56:10.639816",
     "exception": false,
     "start_time": "2021-09-09T07:56:10.608042",
     "status": "completed"
    },
    "tags": []
   },
   "outputs": [],
   "source": [
    "# class SignLanguageDataset(data.Dataset):\n",
    "    \n",
    "#     def __init__(self, df, transform=None):\n",
    "        \n",
    "#         self.df = df\n",
    "#         self.transform = transform\n",
    "        \n",
    "#     def __len__(self):\n",
    "#         return self.df.shape[0]\n",
    "    \n",
    "#     def __getitem__(self, index):\n",
    "        \n",
    "#         label = self.df.iloc[index, 0]\n",
    "        \n",
    "#         img = self.df.iloc[index, 1:].values.reshape(28, 28)\n",
    "#         img = torch.Tensor(img).unsqueeze(0)\n",
    "#         if self.transform is not None:\n",
    "#             img =self.transform(img)\n",
    "        \n",
    "#         return img, label\n",
    "        "
   ]
  },
  {
   "cell_type": "code",
   "execution_count": 9,
   "id": "418c0012",
   "metadata": {
    "papermill": {
     "duration": 0.029731,
     "end_time": "2021-09-09T07:56:10.744879",
     "exception": false,
     "start_time": "2021-09-09T07:56:10.715148",
     "status": "completed"
    },
    "tags": []
   },
   "outputs": [],
   "source": [
    "# transforms4train = transforms.Compose([\n",
    "#         #transforms.Normalize(159, 40),\n",
    "#         transforms.RandomHorizontalFlip(p=0.1),\n",
    "#         transforms.RandomApply([transforms.RandomRotation(degrees=(-180, 180))], p=0.2),\n",
    "# ]) "
   ]
  },
  {
   "cell_type": "code",
   "execution_count": 10,
   "id": "d9e4e444",
   "metadata": {
    "papermill": {
     "duration": 0.028639,
     "end_time": "2021-09-09T07:56:10.796277",
     "exception": false,
     "start_time": "2021-09-09T07:56:10.767638",
     "status": "completed"
    },
    "tags": []
   },
   "outputs": [],
   "source": [
    "# train_dataset = SignLanguageDataset(train, transform=transforms4train)\n",
    "# test_dataset = SignLanguageDataset(test)"
   ]
  },
  {
   "cell_type": "code",
   "execution_count": 12,
   "id": "22827963",
   "metadata": {},
   "outputs": [],
   "source": [
    "class SignLanguageDataset(data.Dataset):\n",
    "    transforms4train = transforms.Compose([\n",
    "        transforms.RandomHorizontalFlip(p=0.1),\n",
    "        transforms.RandomApply([transforms.RandomRotation(degrees=(-180, 180))], p=0.2),\n",
    "    ])\n",
    "    \n",
    "    def __init__(self, df, transform=None):\n",
    "        self.df = df\n",
    "        self.transform = transform\n",
    "        \n",
    "    def __len__(self):\n",
    "        return self.df.shape[0]\n",
    "    \n",
    "    def __getitem__(self, index):\n",
    "        label = self.df.iloc[index, 0]\n",
    "        img = self.df.iloc[index, 1:].values.reshape(28, 28)\n",
    "        img = torch.Tensor(img).unsqueeze(0)\n",
    "        if self.transform is not None:\n",
    "            img = self.transform(img)\n",
    "        return img, label"
   ]
  },
  {
   "cell_type": "code",
   "execution_count": 13,
   "id": "9c10509b",
   "metadata": {},
   "outputs": [],
   "source": [
    "train_dataset = SignLanguageDataset(train, transform=SignLanguageDataset.transforms4train)\n",
    "test_dataset = SignLanguageDataset(test)"
   ]
  },
  {
   "cell_type": "code",
   "execution_count": 14,
   "id": "d7ae5635",
   "metadata": {
    "papermill": {
     "duration": 0.033058,
     "end_time": "2021-09-09T07:56:10.852883",
     "exception": false,
     "start_time": "2021-09-09T07:56:10.819825",
     "status": "completed"
    },
    "tags": []
   },
   "outputs": [
    {
     "data": {
      "text/plain": [
       "(27455, 7172)"
      ]
     },
     "execution_count": 14,
     "metadata": {},
     "output_type": "execute_result"
    }
   ],
   "source": [
    "len(train_dataset), len(test_dataset)"
   ]
  },
  {
   "cell_type": "markdown",
   "id": "6f06b058",
   "metadata": {},
   "source": [
    "__Windows Multiprocessing Limitation:__\n",
    "\n",
    "Windows uses spawn instead of fork for multiprocessing, which means child processes cannot inherit the Jupyter notebook's memory state.\n",
    "В jupyter используется spawn, \n",
    "Use Linux/WSL These systems use fork for multiprocessing, which works seamlessly with Jupyter notebook.\n",
    "\n",
    "__Fix:__\n",
    " \n",
    " num_workers=0, disables multiprocessing entirely, forcing data loading to happen in the main process. This avoids the pickling error because no subprocesses are spawned."
   ]
  },
  {
   "cell_type": "code",
   "execution_count": 15,
   "id": "54850553",
   "metadata": {
    "papermill": {
     "duration": 0.029895,
     "end_time": "2021-09-09T07:56:10.906023",
     "exception": false,
     "start_time": "2021-09-09T07:56:10.876128",
     "status": "completed"
    },
    "tags": []
   },
   "outputs": [],
   "source": [
    "train_loader = data.DataLoader(train_dataset, batch_size=200, shuffle=True, num_workers=0)\n",
    "test_loader = data.DataLoader(test_dataset, batch_size=200, shuffle=True, num_workers=0)"
   ]
  },
  {
   "cell_type": "markdown",
   "id": "1ee7e174",
   "metadata": {},
   "source": [
    "### Посмотрим как выглядит одно изображение из трэйна"
   ]
  },
  {
   "cell_type": "code",
   "execution_count": 16,
   "id": "0408cf44",
   "metadata": {
    "papermill": {
     "duration": 0.029465,
     "end_time": "2021-09-09T07:56:10.692123",
     "exception": false,
     "start_time": "2021-09-09T07:56:10.662658",
     "status": "completed"
    },
    "tags": []
   },
   "outputs": [],
   "source": [
    "def show_img(img, label):\n",
    "    img = img.squeeze()\n",
    "    img = img*40. + 159.\n",
    "    imgnp = img.detach().numpy()\n",
    "    plt.imshow(img, interpolation='bicubic')\n",
    "    print(label)"
   ]
  },
  {
   "cell_type": "code",
   "execution_count": 17,
   "id": "88b5db68",
   "metadata": {
    "papermill": {
     "duration": 0.33449,
     "end_time": "2021-09-09T07:56:11.264179",
     "exception": false,
     "start_time": "2021-09-09T07:56:10.929689",
     "status": "completed"
    },
    "tags": []
   },
   "outputs": [
    {
     "name": "stdout",
     "output_type": "stream",
     "text": [
      "torch.Size([200, 1, 28, 28])\n"
     ]
    }
   ],
   "source": [
    "trainiter = iter(train_loader)\n",
    "img, label = next(trainiter)\n",
    "print(img.shape)"
   ]
  },
  {
   "cell_type": "code",
   "execution_count": 18,
   "id": "45729ca6",
   "metadata": {
    "papermill": {
     "duration": 0.318818,
     "end_time": "2021-09-09T07:56:11.673468",
     "exception": false,
     "start_time": "2021-09-09T07:56:11.354650",
     "status": "completed"
    },
    "scrolled": true,
    "tags": []
   },
   "outputs": [
    {
     "name": "stdout",
     "output_type": "stream",
     "text": [
      "tensor(11)\n"
     ]
    },
    {
     "data": {
      "image/png": "[encoded data removed]",
      "text/plain": [
       "<Figure size 640x480 with 1 Axes>"
      ]
     },
     "metadata": {},
     "output_type": "display_data"
    }
   ],
   "source": [
    "show_img(img[0], label[0])"
   ]
  },
  {
   "cell_type": "code",
   "execution_count": 19,
   "id": "c12dc950",
   "metadata": {
    "papermill": {
     "duration": 0.033606,
     "end_time": "2021-09-09T07:56:11.732820",
     "exception": false,
     "start_time": "2021-09-09T07:56:11.699214",
     "status": "completed"
    },
    "tags": []
   },
   "outputs": [],
   "source": [
    "def calc_out_size(img_size, kernel_size, stride=1, padding=1, dilation=1 ):\n",
    "    out_size = ((img_size + 2 * padding - (dilation * (kernel_size - 1) + 1 )) / stride) + 1\n",
    "    return int(out_size)"
   ]
  },
  {
   "cell_type": "code",
   "execution_count": 20,
   "id": "01af5773",
   "metadata": {
    "papermill": {
     "duration": 0.03469,
     "end_time": "2021-09-09T07:56:11.792361",
     "exception": false,
     "start_time": "2021-09-09T07:56:11.757671",
     "status": "completed"
    },
    "tags": []
   },
   "outputs": [
    {
     "data": {
      "text/plain": [
       "28"
      ]
     },
     "execution_count": 20,
     "metadata": {},
     "output_type": "execute_result"
    }
   ],
   "source": [
    "calc_out_size(28, 3)"
   ]
  },
  {
   "cell_type": "markdown",
   "id": "86c060d1",
   "metadata": {
    "papermill": {
     "duration": 0.025399,
     "end_time": "2021-09-09T07:56:11.843261",
     "exception": false,
     "start_time": "2021-09-09T07:56:11.817862",
     "status": "completed"
    },
    "tags": []
   },
   "source": [
    "## Напишем простую сверточную нейросеть и обучим её:"
   ]
  },
  {
   "cell_type": "code",
   "execution_count": 21,
   "id": "72569b2b",
   "metadata": {
    "papermill": {
     "duration": 0.038187,
     "end_time": "2021-09-09T07:56:11.906661",
     "exception": false,
     "start_time": "2021-09-09T07:56:11.868474",
     "status": "completed"
    },
    "tags": []
   },
   "outputs": [],
   "source": [
    "class MyConvNet(nn.Module):\n",
    "    \n",
    "    def __init__(self, stride=1, dilation=1, n_classes=25):\n",
    "        \n",
    "        super(MyConvNet, self).__init__()\n",
    "        \n",
    "        self.stride = stride\n",
    "        self.dilation = dilation\n",
    "        self.n_classes = n_classes\n",
    "        \n",
    "        self.block1 = nn.Sequential(\n",
    "            #input=(batch, 1, 28, 28)\n",
    "            nn.Conv2d(in_channels=1, out_channels=8, kernel_size=3, padding=1, stride=self.stride, dilation=self.dilation),\n",
    "            nn.BatchNorm2d(8),\n",
    "            # (batch, 8, 28, 28)\n",
    "            nn.AvgPool2d(2),\n",
    "            # (batch, 8, 14, 14)\n",
    "            nn.ReLU()\n",
    "            )\n",
    "        \n",
    "        self.block2 = nn.Sequential(\n",
    "            nn.Conv2d(in_channels=8, out_channels=16, kernel_size=3, padding=1, stride=self.stride, dilation=self.dilation),\n",
    "            nn.BatchNorm2d(16),\n",
    "            # (batch, 16, 14, 14)\n",
    "            nn.AvgPool2d(2),\n",
    "            # (batch, 16, 7, 7)\n",
    "            nn.ReLU()\n",
    "        )\n",
    "        \n",
    "        self.lin1 = nn.Linear(in_features=16*7*7, out_features=100)\n",
    "        # (batch, 100)\n",
    "        self.act1 = nn.LeakyReLU()\n",
    "        self.drop1 = nn.Dropout(p=0.3)\n",
    "        self.lin2 = nn.Linear(100, self.n_classes)\n",
    "        # (batch, 25)\n",
    "    \n",
    "    def forward(self, x):\n",
    "        \n",
    "        x = self.block1(x)\n",
    "        x = self.block2(x)\n",
    "        x = x.view((x.shape[0], -1))\n",
    "        x = self.lin1(x)\n",
    "        x = self.act1(x)\n",
    "        x = self.drop1(x)\n",
    "        x = self.lin2(x)\n",
    "        \n",
    "        return x"
   ]
  },
  {
   "cell_type": "code",
   "execution_count": 22,
   "id": "c32f2a71",
   "metadata": {
    "papermill": {
     "duration": 0.040137,
     "end_time": "2021-09-09T07:56:11.971703",
     "exception": false,
     "start_time": "2021-09-09T07:56:11.931566",
     "status": "completed"
    },
    "tags": []
   },
   "outputs": [
    {
     "data": {
      "text/plain": [
       "MyConvNet(\n",
       "  (block1): Sequential(\n",
       "    (0): Conv2d(1, 8, kernel_size=(3, 3), stride=(1, 1), padding=(1, 1))\n",
       "    (1): BatchNorm2d(8, eps=1e-05, momentum=0.1, affine=True, track_running_stats=True)\n",
       "    (2): AvgPool2d(kernel_size=2, stride=2, padding=0)\n",
       "    (3): ReLU()\n",
       "  )\n",
       "  (block2): Sequential(\n",
       "    (0): Conv2d(8, 16, kernel_size=(3, 3), stride=(1, 1), padding=(1, 1))\n",
       "    (1): BatchNorm2d(16, eps=1e-05, momentum=0.1, affine=True, track_running_stats=True)\n",
       "    (2): AvgPool2d(kernel_size=2, stride=2, padding=0)\n",
       "    (3): ReLU()\n",
       "  )\n",
       "  (lin1): Linear(in_features=784, out_features=100, bias=True)\n",
       "  (act1): LeakyReLU(negative_slope=0.01)\n",
       "  (drop1): Dropout(p=0.3, inplace=False)\n",
       "  (lin2): Linear(in_features=100, out_features=25, bias=True)\n",
       ")"
      ]
     },
     "execution_count": 22,
     "metadata": {},
     "output_type": "execute_result"
    }
   ],
   "source": [
    "model = MyConvNet()\n",
    "model"
   ]
  },
  {
   "cell_type": "code",
   "execution_count": 23,
   "id": "fe8f1a32",
   "metadata": {
    "papermill": {
     "duration": 0.098828,
     "end_time": "2021-09-09T07:56:12.095991",
     "exception": false,
     "start_time": "2021-09-09T07:56:11.997163",
     "status": "completed"
    },
    "tags": []
   },
   "outputs": [
    {
     "name": "stdout",
     "output_type": "stream",
     "text": [
      "torch.Size([20, 8, 14, 14])\n",
      "torch.Size([20, 16, 7, 7])\n",
      "torch.Size([20, 25])\n"
     ]
    }
   ],
   "source": [
    "# Проверяем\n",
    "sample_batch = torch.ones(20, 1, 28, 28)\n",
    "print(model.block1(sample_batch).shape)\n",
    "print(model.block2(model.block1(sample_batch)).shape)\n",
    "print(model(sample_batch).shape)"
   ]
  },
  {
   "cell_type": "markdown",
   "id": "2f811076",
   "metadata": {
    "papermill": {
     "duration": 0.026083,
     "end_time": "2021-09-09T07:56:12.148020",
     "exception": false,
     "start_time": "2021-09-09T07:56:12.121937",
     "status": "completed"
    },
    "tags": []
   },
   "source": [
    "## Напишем циклы тренировки и валидации модели:"
   ]
  },
  {
   "cell_type": "code",
   "execution_count": 24,
   "id": "338caa9c",
   "metadata": {
    "papermill": {
     "duration": 0.035739,
     "end_time": "2021-09-09T07:56:12.209948",
     "exception": false,
     "start_time": "2021-09-09T07:56:12.174209",
     "status": "completed"
    },
    "tags": []
   },
   "outputs": [],
   "source": [
    "def eval_model(model, criterion, test_loader, cuda=True):\n",
    "    model = model.to(device)\n",
    "    model = model.eval()\n",
    "    \n",
    "    running_loss = 0.\n",
    "    num_correct = 0.\n",
    "    num_total = 0.\n",
    "    \n",
    "    for batch, labels in test_loader:\n",
    "        batch = batch.to(device)\n",
    "        labels = labels.to(device)\n",
    "        \n",
    "        out = model(batch)\n",
    "        pred_labels = out.argmax(dim=1)\n",
    "        num_correct += float((pred_labels == labels).sum())\n",
    "        \n",
    "        loss = criterion(out, labels)\n",
    "        running_loss += loss.data.cpu()\n",
    "        \n",
    "        num_total += labels.shape[0]\n",
    "    \n",
    "    mean_loss = running_loss / num_total\n",
    "    accuracy = num_correct / num_total\n",
    "    \n",
    "    return mean_loss, accuracy"
   ]
  },
  {
   "cell_type": "code",
   "execution_count": 25,
   "id": "6b71ec9f",
   "metadata": {
    "papermill": {
     "duration": 0.038949,
     "end_time": "2021-09-09T07:56:12.274962",
     "exception": false,
     "start_time": "2021-09-09T07:56:12.236013",
     "status": "completed"
    },
    "tags": []
   },
   "outputs": [],
   "source": [
    "def train_model(n_epochs, model, optimizer, criterion, train_loader, test_loader, cuda=True):\n",
    "    model = model.to(device)\n",
    "    model = model.train()\n",
    "    \n",
    "    train_loss, train_acc = [], []\n",
    "    test_loss, test_acc = [], []\n",
    "    \n",
    "    for epoch in range(n_epochs):\n",
    "        t0 = time.perf_counter()\n",
    "        \n",
    "        running_loss = 0.\n",
    "        num_correct = 0.\n",
    "        num_total = 0.\n",
    "        \n",
    "        for batch, labels in train_loader:\n",
    "            batch = batch.to(device)\n",
    "            labels = labels.to(device)\n",
    "            \n",
    "            optimizer.zero_grad()\n",
    "            \n",
    "            out = model(batch)\n",
    "            pred_labels = out.argmax(dim=1)\n",
    "            num_correct += float((pred_labels == labels).sum())\n",
    "            num_total += labels.shape[0]\n",
    "            \n",
    "              \n",
    "            loss = criterion(out, labels)\n",
    "            running_loss += loss\n",
    "            loss.backward()\n",
    "            optimizer.step()\n",
    "        \n",
    "        epoch_loss = running_loss / num_total\n",
    "        epoch_acc = num_correct / num_total\n",
    "        \n",
    "        train_loss.append(epoch_loss.data.cpu())\n",
    "        train_acc.append(epoch_acc)\n",
    "        \n",
    "        t_loss, t_acc = eval_model(model, criterion, test_loader, cuda=True)\n",
    "        \n",
    "        test_loss.append(t_loss.data.cpu())\n",
    "        test_acc.append(t_acc)\n",
    "        \n",
    "        t1 = time.perf_counter()\n",
    "        \n",
    "        delta_t = t1 - t0\n",
    "        print(f\"EPOCH {epoch} ({round(delta_t, 4)} s.): train loss - {epoch_loss}, train accuracy - {epoch_acc}; test loss - {t_loss}, test accuracy - {t_acc}\")\n",
    "        \n",
    "    \n",
    "    return model, train_loss, train_acc, test_loss, test_acc        \n",
    "        \n",
    "        "
   ]
  },
  {
   "cell_type": "code",
   "execution_count": 26,
   "id": "25b911da",
   "metadata": {
    "papermill": {
     "duration": 0.033937,
     "end_time": "2021-09-09T07:56:12.335298",
     "exception": false,
     "start_time": "2021-09-09T07:56:12.301361",
     "status": "completed"
    },
    "tags": []
   },
   "outputs": [],
   "source": [
    "optimizer = optim.Adam(model.parameters(), lr=1e-3)\n",
    "criterion = nn.CrossEntropyLoss()"
   ]
  },
  {
   "cell_type": "code",
   "execution_count": 27,
   "id": "98e89ca3",
   "metadata": {
    "papermill": {
     "duration": 263.029003,
     "end_time": "2021-09-09T08:00:35.391180",
     "exception": false,
     "start_time": "2021-09-09T07:56:12.362177",
     "status": "completed"
    },
    "tags": []
   },
   "outputs": [
    {
     "name": "stdout",
     "output_type": "stream",
     "text": [
      "EPOCH 0 (12.8727 s.): train loss - 0.01066883560270071, train accuracy - 0.3884174103077764; test loss - 0.004910214804112911, test accuracy - 0.7177914110429447\n",
      "EPOCH 1 (12.663 s.): train loss - 0.004750770982354879, train accuracy - 0.7273720633764341; test loss - 0.0025544888339936733, test accuracy - 0.8296151701059676\n",
      "EPOCH 2 (12.8273 s.): train loss - 0.0031360348220914602, train accuracy - 0.8197778182480423; test loss - 0.0019011014373973012, test accuracy - 0.8774400446179588\n",
      "EPOCH 3 (12.9578 s.): train loss - 0.0024980863090604544, train accuracy - 0.8520123839009288; test loss - 0.002050296636298299, test accuracy - 0.878276631344116\n",
      "EPOCH 4 (14.4278 s.): train loss - 0.002119269920513034, train accuracy - 0.8712074303405573; test loss - 0.002296113409101963, test accuracy - 0.8660066926938093\n",
      "EPOCH 5 (14.3098 s.): train loss - 0.001971917925402522, train accuracy - 0.8782735385175742; test loss - 0.0017439844086766243, test accuracy - 0.8873396542108198\n",
      "EPOCH 6 (14.5442 s.): train loss - 0.0017533701611682773, train accuracy - 0.8892369331633582; test loss - 0.0019530152203515172, test accuracy - 0.8920803123257111\n",
      "EPOCH 7 (13.9573 s.): train loss - 0.0016206634463742375, train accuracy - 0.8974685849572027; test loss - 0.0016126210102811456, test accuracy - 0.9106246514221974\n",
      "EPOCH 8 (14.3698 s.): train loss - 0.0016034888103604317, train accuracy - 0.8968858131487889; test loss - 0.0016752820229157805, test accuracy - 0.9121583937534857\n",
      "EPOCH 9 (14.1333 s.): train loss - 0.0014565307646989822, train accuracy - 0.9075213986523402; test loss - 0.0017865786794573069, test accuracy - 0.8997490239821528\n",
      "EPOCH 10 (14.4756 s.): train loss - 0.0014002877287566662, train accuracy - 0.9090875978874522; test loss - 0.0020995591767132282, test accuracy - 0.899888455103179\n",
      "EPOCH 11 (14.1904 s.): train loss - 0.001299338648095727, train accuracy - 0.9160080131123657; test loss - 0.001849931082688272, test accuracy - 0.9050474065811489\n",
      "EPOCH 12 (14.9769 s.): train loss - 0.0012518676230683923, train accuracy - 0.9163358222545984; test loss - 0.001959404908120632, test accuracy - 0.914249860568879\n",
      "EPOCH 13 (14.6919 s.): train loss - 0.0012287268182262778, train accuracy - 0.9186669094882535; test loss - 0.0021435178350657225, test accuracy - 0.8906860011154489\n",
      "EPOCH 14 (14.2805 s.): train loss - 0.0011730741243809462, train accuracy - 0.9234019304316153; test loss - 0.0020129599142819643, test accuracy - 0.8892916899051868\n",
      "EPOCH 15 (14.721 s.): train loss - 0.0011194241233170033, train accuracy - 0.9244217810963394; test loss - 0.0023196812253445387, test accuracy - 0.8869213608477412\n",
      "EPOCH 16 (14.8835 s.): train loss - 0.0010795718990266323, train accuracy - 0.9282826443270806; test loss - 0.001969589153304696, test accuracy - 0.9092303402119353\n",
      "EPOCH 17 (13.7096 s.): train loss - 0.0010584365809336305, train accuracy - 0.9293024949918047; test loss - 0.002062619896605611, test accuracy - 0.9051868377021751\n",
      "EPOCH 18 (14.4951 s.): train loss - 0.0010175969218835235, train accuracy - 0.9317792751775633; test loss - 0.00198439322412014, test accuracy - 0.9051868377021751\n",
      "EPOCH 19 (14.4722 s.): train loss - 0.0010060721542686224, train accuracy - 0.9327991258422874; test loss - 0.0017928860615938902, test accuracy - 0.916201896263246\n"
     ]
    }
   ],
   "source": [
    "model, train_loss, train_acc, test_loss, test_acc = train_model(20, model, optimizer, criterion, train_loader, test_loader, cuda=True)"
   ]
  },
  {
   "cell_type": "code",
   "execution_count": 28,
   "id": "3dc8c329",
   "metadata": {
    "papermill": {
     "duration": 0.3556,
     "end_time": "2021-09-09T08:00:35.779075",
     "exception": false,
     "start_time": "2021-09-09T08:00:35.423475",
     "status": "completed"
    },
    "tags": []
   },
   "outputs": [
    {
     "data": {
      "text/plain": [
       "Text(0.5, 1.0, 'Accuracy')"
      ]
     },
     "execution_count": 28,
     "metadata": {},
     "output_type": "execute_result"
    },
    {
     "data": {
      "image/png": "[encoded data removed]",
      "text/plain": [
       "<Figure size 1200x600 with 2 Axes>"
      ]
     },
     "metadata": {},
     "output_type": "display_data"
    }
   ],
   "source": [
    "# Посмотрим прогресс обучения на графиках\n",
    "fig, (ax1, ax2) = plt.subplots(1, 2, figsize=(12,6))\n",
    "ax1.plot(train_loss)\n",
    "ax1.plot(test_loss)\n",
    "ax1.legend(['train', 'test'])\n",
    "ax1.set_title('Loss')\n",
    "ax2.plot(train_acc)\n",
    "ax2.plot(test_acc)\n",
    "ax2.legend(['train', 'test'])\n",
    "ax2.set_title('Accuracy')"
   ]
  },
  {
   "cell_type": "code",
   "execution_count": 29,
   "id": "c1c52880",
   "metadata": {
    "papermill": {
     "duration": 0.047502,
     "end_time": "2021-09-09T08:00:35.859208",
     "exception": false,
     "start_time": "2021-09-09T08:00:35.811706",
     "status": "completed"
    },
    "tags": []
   },
   "outputs": [],
   "source": [
    "# Сохраним модель\n",
    "state = {'model': model.state_dict(),\n",
    "        'epoch': 20}\n",
    "\n",
    "model_path = Path('../models')\n",
    "model_name = 'myconvnet_sign_lang.pth'\n",
    "model_path.mkdir(parents=True, exist_ok=True) # Создаем папку, если ее не существует\n",
    "\n",
    "torch.save(state, model_path / model_name)"
   ]
  },
  {
   "cell_type": "markdown",
   "id": "711f85f6",
   "metadata": {},
   "source": [
    "## Посмотрим как модель предсказывает"
   ]
  },
  {
   "cell_type": "code",
   "execution_count": 30,
   "id": "5e21d6cd",
   "metadata": {
    "papermill": {
     "duration": 0.204851,
     "end_time": "2021-09-09T08:00:36.096681",
     "exception": false,
     "start_time": "2021-09-09T08:00:35.891830",
     "status": "completed"
    },
    "tags": []
   },
   "outputs": [],
   "source": [
    "testiter = iter(test_loader)\n",
    "img, label = next(testiter)\n",
    "model = model.cpu()"
   ]
  },
  {
   "cell_type": "code",
   "execution_count": 31,
   "id": "42b7b4e3",
   "metadata": {
    "scrolled": true
   },
   "outputs": [
    {
     "name": "stdout",
     "output_type": "stream",
     "text": [
      "Fact: 7, Prediction: 7\n",
      "tensor(7)\n"
     ]
    },
    {
     "data": {
      "image/png": "[encoded data removed]",
      "text/plain": [
       "<Figure size 640x480 with 1 Axes>"
      ]
     },
     "metadata": {},
     "output_type": "display_data"
    }
   ],
   "source": [
    "idx=12\n",
    "pred = model(img)\n",
    "print(f'Fact: {label[idx]}, Prediction: {(torch.argmax(pred[idx], dim=0))}')\n",
    "show_img(img[idx], label[idx])"
   ]
  },
  {
   "cell_type": "markdown",
   "id": "3b85deb0",
   "metadata": {},
   "source": [
    "### Запись файла для сдачи на Stepik"
   ]
  },
  {
   "cell_type": "code",
   "execution_count": 2,
   "id": "697f0f70",
   "metadata": {},
   "outputs": [
    {
     "name": "stdout",
     "output_type": "stream",
     "text": [
      "Overwriting homework02.py\n"
     ]
    }
   ],
   "source": [
    "%%writefile homework02.py\n",
    "#!/usr/bin/env python\n",
    "import argparse\n",
    "from io import BytesIO\n",
    "from zipfile import ZipFile\n",
    "from dataclasses import dataclass\n",
    "from pathlib import Path\n",
    "from typing import Optional, Dict, Any\n",
    "import torch.utils.data as data\n",
    "import os\n",
    "\n",
    "import pandas as pd\n",
    "import requests\n",
    "import numpy as np\n",
    "import matplotlib.pyplot as plt\n",
    "import torch\n",
    "from torch import nn, optim\n",
    "from torch.utils.data import Dataset, DataLoader\n",
    "from torchvision import transforms\n",
    "import lightning as pl\n",
    "from lightning import Trainer, LightningModule, LightningDataModule# Джентельменский наборчик\n",
    "from lightning.pytorch.callbacks import  ModelCheckpoint, EarlyStopping\n",
    "from sklearn.model_selection import train_test_split\n",
    "\n",
    "# your code here\n",
    "@dataclass\n",
    "class CFG:\n",
    "    seed: int = 2025\n",
    "    accelerator: str = \"auto\"  # Автоматическое определение\n",
    "    devices: int = 1\n",
    "    dropout: float = 0.3\n",
    "    lr: float = 1e-3\n",
    "    batch_size: int = 200\n",
    "    test_size: float = 0.2\n",
    "    num_workers: int = min(2, os.cpu_count())\n",
    "    epochs: int = 10\n",
    "    gpus: int = 2\n",
    "    stride: int = 1\n",
    "    dilation: int =1\n",
    "    n_classes: int =25\n",
    "        \n",
    "    def __post_init__(self):\n",
    "        pl.seed_everything(self.seed)\n",
    "        # Автоматическое определение доступных устройств\n",
    "        if torch.cuda.is_available():\n",
    "            self.accelerator = \"gpu\"\n",
    "            self.devices = torch.cuda.device_count()\n",
    "        else:\n",
    "            self.accelerator = \"cpu\"\n",
    "            self.devices = 1\n",
    "\n",
    "# Dataset\n",
    "class SignLanguageDataset(data.Dataset):\n",
    "\n",
    "    \n",
    "    def __init__(self, df, transform: Optional[transforms.Compose] = None, is_train: bool = True):\n",
    "        \n",
    "        self.df = df\n",
    "        self.transform = transform\n",
    "        self.is_train = is_train\n",
    "\n",
    "        \n",
    "    def __len__(self):\n",
    "        return self.df.shape[0]\n",
    "    \n",
    "    def __getitem__(self, index):\n",
    "        \n",
    "        label = self.df.iloc[index, 0]\n",
    "        \n",
    "        img = self.df.iloc[index, 1:].values.reshape(28, 28)\n",
    "        img = torch.Tensor(img).unsqueeze(0)\n",
    "        if self.transform is not None:\n",
    "            img =self.transform(img)\n",
    "        \n",
    "        return img, label\n",
    "\n",
    "# Data Module\n",
    "class SignLanguageDatasetLightning(LightningDataModule):\n",
    "    \n",
    "    def __init__(self, cfg: CFG):\n",
    "        super().__init__()\n",
    "        \n",
    "        self.cfg = cfg\n",
    "        self.train_transform = transforms.Compose([\n",
    "        #transforms.Normalize(159, 40),\n",
    "        transforms.RandomHorizontalFlip(p=0.1),\n",
    "        transforms.RandomApply([transforms.RandomRotation(degrees=(-180, 180))], p=0.2),\n",
    "    ])\n",
    "            \n",
    "    def prepare_data(self):\n",
    "        \"\"\"Download and prepare data (called once)\"\"\"\n",
    "        self.train_df = self._read_zip_csv(\n",
    "            \"https://github.com/a-milenkin/ml_instruments/raw/main/data/sign_mnist_train.csv.zip\"\n",
    "        )\n",
    "        self.test_df = self._read_zip_csv(\n",
    "            \"https://github.com/a-milenkin/ml_instruments/raw/main/data/sign_mnist_test.csv.zip\"\n",
    "        )\n",
    "\n",
    "\n",
    "    def setup(self, stage=None):\n",
    "        if stage == \"fit\" or stage is None:\n",
    "            train_df, val_df = train_test_split(\n",
    "                self.train_df, \n",
    "                test_size=self.cfg.test_size,\n",
    "                stratify=self.train_df.iloc[:, 0]\n",
    "            )\n",
    "            \n",
    "            self.train = SignLanguageDataset(train_df, self.train_transform)\n",
    "            self.val = SignLanguageDataset(val_df, is_train=False)\n",
    "            \n",
    "        if stage == \"test\" or stage is None:\n",
    "            self.test = SignLanguageDataset(self.test_df, is_train=False)\n",
    "                     \n",
    "    def _make_dataloader(self, dataset):\n",
    "        return DataLoader(\n",
    "            dataset,\n",
    "            batch_size=self.cfg.batch_size,\n",
    "            num_workers=self.cfg.num_workers,\n",
    "            pin_memory=True\n",
    "        )\n",
    "    \n",
    "    def _read_zip_csv(self, url: str) -> pd.DataFrame:\n",
    "        \"\"\"Helper to read CSV from ZIP\"\"\"\n",
    "        try:\n",
    "            response = requests.get(url, timeout=10)\n",
    "            response.raise_for_status()\n",
    "        except requests.exceptions.RequestException as e:\n",
    "            raise\n",
    "\n",
    "        with ZipFile(BytesIO(response.content)) as zip_file:\n",
    "            csv_files = [f for f in zip_file.namelist() \n",
    "                        if f.endswith('.csv') and '__MACOSX' not in f]\n",
    "            if len(csv_files) != 1:\n",
    "                raise ValueError(f\"Expected 1 CSV, found {len(csv_files)}\")\n",
    "                \n",
    "            with zip_file.open(csv_files[0]) as f:\n",
    "                return pd.read_csv(f)\n",
    "            \n",
    "    def train_dataloader(self)-> DataLoader:\n",
    "        # Возвращаем Train Dataloader\n",
    "        return self._make_dataloader(self.train)\n",
    "    \n",
    "    def val_dataloader(self)-> DataLoader:\n",
    "        # Возвращаем Valid Dataset\n",
    "        return self._make_dataloader(self.val)\n",
    "        \n",
    "    def test_dataloader(self) -> DataLoader:\n",
    "        return self._make_dataloader(self.test)\n",
    "    \n",
    "# Model\n",
    "class MyConvNetLightning(LightningModule):\n",
    "    \n",
    "    def __init__(self, cfg: CFG):\n",
    "        super().__init__()\n",
    "        self.cfg = cfg\n",
    "        self.lr = cfg.lr\n",
    "\n",
    "        self.stride = cfg.stride\n",
    "        self.dilation = cfg.dilation\n",
    "        self.n_classes = cfg.n_classes\n",
    "\n",
    "        \n",
    "        self.model = nn.Sequential(\n",
    "            #input=(batch, 1, 28, 28)\n",
    "            nn.Conv2d(in_channels=1, out_channels=8, kernel_size=3, padding=1, stride=self.stride, dilation=self.dilation),\n",
    "            nn.BatchNorm2d(8),\n",
    "            # (batch, 8, 28, 28)\n",
    "            nn.AvgPool2d(2),\n",
    "            # (batch, 8, 14, 14)\n",
    "            nn.ReLU(),\n",
    "            nn.Conv2d(in_channels=8, out_channels=16, kernel_size=3, padding=1, stride=self.stride, dilation=self.dilation),\n",
    "            nn.BatchNorm2d(16),\n",
    "            # (batch, 16, 14, 14)\n",
    "            nn.AvgPool2d(2),\n",
    "            # (batch, 16, 7, 7)\n",
    "            nn.ReLU()\n",
    "            )\n",
    "        \n",
    "        self.lin1 = nn.Linear(in_features=16*7*7, out_features=100)\n",
    "        # (batch, 100)\n",
    "        self.act1 = nn.LeakyReLU()\n",
    "        self.drop1 = nn.Dropout(p=cfg.dropout)\n",
    "        self.lin2 = nn.Linear(100, self.n_classes)\n",
    "        # (batch, 25)\n",
    "        \n",
    "        self.criterion = nn.CrossEntropyLoss()\n",
    "    \n",
    "    def forward(self, x):\n",
    "        \n",
    "        x = self.model(x)\n",
    "        x = x.view((x.shape[0], -1))\n",
    "        x = self.lin1(x)\n",
    "        x = self.act1(x)\n",
    "        x = self.drop1(x)\n",
    "        x = self.lin2(x)\n",
    "        \n",
    "        return x\n",
    "    \n",
    "    def _shared_step(self, batch: tuple, step: str):\n",
    "        # получаем данные\n",
    "        data, target = batch\n",
    "        \n",
    "        pred = self(data)\n",
    "        \n",
    "        loss= self.criterion(pred, target)\n",
    "        acc = (pred.argmax(dim=1) == target).float().mean()\n",
    "        \n",
    "        loss_dict = {\n",
    "            f\"{step}/loss\": loss,\n",
    "            f\"{step}/acc\": acc\n",
    "        }\n",
    "        \n",
    "        self.log_dict(loss_dict, prog_bar=True)\n",
    "        \n",
    "        if step == \"val\":\n",
    "            self.log(\"val/acc\", acc, prog_bar=True)\n",
    "        \n",
    "        return loss\n",
    "        \n",
    "    def training_step(self, batch, batch_idx):\n",
    "        loss = self._shared_step(batch,  \"train\")\n",
    "        return loss\n",
    "        \n",
    "    def validation_step(self, batch, batch_idx):\n",
    "        loss = self._shared_step(batch,\"val\")\n",
    "        return loss\n",
    "    \n",
    "    def test_step(self, batch, batch_idx ):\n",
    "        loss = self._shared_step(batch, \"test\")\n",
    "        return loss\n",
    "     \n",
    "\n",
    "    def configure_optimizers(self):\n",
    "        optimizer = optim.AdamW(self.parameters(), lr=self.lr)\n",
    "        scheduler = optim.lr_scheduler.ReduceLROnPlateau(\n",
    "            optimizer,\n",
    "            patience=2, # Сколько эпох ждать без улучшения\n",
    "            verbose=True, # Печатать, когда LR меняется\n",
    "            factor=0.5, # Насколько уменьшить LR (в 2 раза, 0.1 = в 10 раз)\n",
    "            mode='min', # Что хотим минимизировать (например, val_loss)\n",
    "        )\n",
    "        \n",
    "        return {\n",
    "            \"optimizer\": optimizer,\n",
    "            \"lr_scheduler\": {\n",
    "                \"scheduler\": scheduler,\n",
    "                \"monitor\": \"val/loss\" # Должно совпадать с логгируемым именем\n",
    "            }\n",
    "        }\n",
    "    \n",
    "def main(args, cfg):\n",
    "\n",
    "    dataset = SignLanguageDatasetLightning(cfg)\n",
    "    dataset.prepare_data()\n",
    "    dataset.setup(\"fit\")\n",
    "    \n",
    "    model = MyConvNetLightning(cfg)\n",
    "    \n",
    "    # Callbacks\n",
    "    checkpoint = ModelCheckpoint(\n",
    "        monitor=\"val_acc\",\n",
    "        mode=\"max\",\n",
    "        filename=\"best-{epoch}-{val_acc:.2f}\",\n",
    "        save_top_k=1\n",
    "    )\n",
    "    \n",
    "    # Trainer\n",
    "    trainer = Trainer(\n",
    "        max_epochs=cfg.epochs, \n",
    "        log_every_n_steps=1,\n",
    "        devices=cfg.devices if cfg.accelerator == \"gpu\" else \"auto\",\n",
    "        # отключение чекпоинтов в режиме разработки\n",
    "        enable_checkpointing=not args.fast_dev_run,\n",
    "        fast_dev_run=args.fast_dev_run\n",
    "        \n",
    "    )\n",
    "    \n",
    "    if args.fast_dev_run:\n",
    "        try:\n",
    "#             trainer.test(datamodule=dataset, ckpt_path=\"best\")\n",
    "            trainer.validate(model, datamodule=dataset)\n",
    "            print(\"Тестовый прогон успешно пройден\")\n",
    "        except Exception as err:\n",
    "            print(f\"Тестовый прогон завершился с ошибкой {err}\")\n",
    "            return\n",
    "    else:\n",
    "        # Полный цикл обучения + тестирование\n",
    "        trainer.fit(model, datamodule=dataset)\n",
    "        trainer.test(model, datamodule=dataset) \n",
    "        \n",
    "    \n",
    "    # Инференс на одном образце\n",
    "    dataset.setup(\"test\")\n",
    "    model.eval()\n",
    "    sample_img, true_label = dataset.test[0]\n",
    "    sample = sample_img.unsqueeze(0)  # берём первый образец из теста\n",
    "    with torch.no_grad():\n",
    "        pred = model(sample)\n",
    "        predicted_class = pred.argmax(dim=1).item()\n",
    "        print(f\"Инференс на одном примере: Fact: {true_label}, Prediction:{predicted_class}\")\n",
    "\n",
    "    # Сохраним модель\n",
    "    state = {'model': model.state_dict(),\n",
    "            'epoch': 20}\n",
    "\n",
    "    model_path = Path('../models')\n",
    "    model_name = 'myconvnet_sign_lang.pth'\n",
    "    model_path.mkdir(parents=True, exist_ok=True) # Создаем папку, если ее не существует\n",
    "\n",
    "    torch.save(state, model_path / model_name)\n",
    "\n",
    "if __name__ == \"__main__\":\n",
    "    # your code here\n",
    "    parser = argparse.ArgumentParser()\n",
    "    \n",
    "    # определён через action=\"store_true\". При таком способе использования флаг устанавливается в True\n",
    "    # , если он присутствует, и не требует передачи дополнительного значения. \n",
    "    # То есть, для включения режима fast_dev_run достаточно указать просто флаг без параметров.\n",
    "    parser.add_argument(\"--fast_dev_run\", action=\"store_true\")\n",
    "    args = parser.parse_args()\n",
    "                                                                                       \n",
    "    cfg = CFG()\n",
    "  \n",
    "    main(args, cfg)"
   ]
  },
  {
   "cell_type": "markdown",
   "id": "bca3a9ae",
   "metadata": {},
   "source": [
    "**Проверка работоспособности**"
   ]
  },
  {
   "cell_type": "code",
   "execution_count": null,
   "id": "65886687",
   "metadata": {},
   "outputs": [],
   "source": [
    "!python example.py"
   ]
  },
  {
   "cell_type": "code",
   "execution_count": null,
   "id": "f891453e",
   "metadata": {},
   "outputs": [],
   "source": [
    "# Для дополнительного задания\n",
    "!python example.py --fast_dev_run True"
   ]
  },
  {
   "cell_type": "markdown",
   "id": "2f0b8086",
   "metadata": {},
   "source": [
    "---\n",
    "---\n",
    "---\n",
    "__Что такое?__\n",
    "\n",
    "В PyTorch Lightning метод _configure_optimizers(self)_ отвечает за то, чтобы задать оптимизатор (например, Adam, SGD) и, при необходимости, __планировщик изменения learning rate (LR scheduler)__.\n",
    "\n",
    "Он возвращает:\n",
    "\n",
    "- сам оптимизатор (или список оптимизаторов)\n",
    "\n",
    "- и/или словарь, содержащий scheduler и правила, по которым он будет обновляться\n",
    "\n",
    "__Что делает ReduceLROnPlateau?__\n",
    "\n",
    "Уменьшать learning rate, если метрика \"застряла\" и не улучшается.  Почему важно? Модель может застрять на плато. Learning rate может быть слишком большим на поздних этапах. Уменьшая LR автоматически, модель может доучиться до лучшего минимума.\n",
    "\n",
    "\n",
    "\n",
    "Идеально подходит, если:\n",
    "\n",
    "- модель долго \"буксует\" на плато,\n",
    "\n",
    "- нет заметного улучшения метрики валидации,\n",
    "\n",
    "- хочется finer tuning на поздних этапах.\n",
    "\n",
    "Пример:\n",
    "если val_loss не улучшается 2 эпохи подряд, LR уменьшается в 2 раза.\n",
    "\n",
    "__⚠️ Важно:__\n",
    "Ты должен логировать \"val/loss\" в validation_step, иначе Lightning не поймет, что отслеживать!"
   ]
  }
 ],
 "metadata": {
  "kernelspec": {
   "display_name": "jupyret_kernel",
   "language": "python",
   "name": "jupyret_kernel"
  },
  "language_info": {
   "codemirror_mode": {
    "name": "ipython",
    "version": 3
   },
   "file_extension": ".py",
   "mimetype": "text/x-python",
   "name": "python",
   "nbconvert_exporter": "python",
   "pygments_lexer": "ipython3",
   "version": "3.11.4"
  },
  "papermill": {
   "default_parameters": {},
   "duration": 767.876621,
   "end_time": "2021-09-09T08:08:45.423623",
   "environment_variables": {},
   "exception": null,
   "input_path": "__notebook__.ipynb",
   "output_path": "__notebook__.ipynb",
   "parameters": {},
   "start_time": "2021-09-09T07:55:57.547002",
   "version": "2.3.3"
  }
 },
 "nbformat": 4,
 "nbformat_minor": 5
}
