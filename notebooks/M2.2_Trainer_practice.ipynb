{
 "cells": [
  {
   "cell_type": "markdown",
   "id": "d8dd310c-ef59-4996-be30-c753309aa927",
   "metadata": {},
   "source": [
    "# <center> 🏋‍♂️ Trainer практика 🛠\n",
    "\n",
    "В этой практике вам предстоит обучить нейронную сеть для перевода с языка жестов на английский, применяя ранее изученные фишки Trainer из Lightning и залогировать метрики из Torchmetrics.\n",
    "\n",
    "Важно!: Решите сначала практику 2.1 🥸 - так будет легче, так как данный урок основывается на ней.\n",
    "\n",
    "Вам дан ноутбук с обучением простой свёрточной нейросети, реализованной на чистом PyTorch, которую необходимо перенести на PyTorch Ligthning и обучить её с помощью Trainer, выполнив все условия.\n",
    "\n",
    "Вам необходимо сдать файл с расширением любое_имя.py в котором:\n",
    "\n",
    "**Основное задание (5 баллов):**\n",
    "\n",
    "* Будет загрузка датасета\n",
    "* Создание LightningDataModule\n",
    "* Создание LightningModule\n",
    "* Добавлены 2 метрики (для train, val отдельно) из Torchmetrics. Например,F-Beta и ROC-AUC\n",
    "* Обучение модели с помощью Trainer\n",
    "* Используйте, как минимум 2 callback'а в Trainer. Например, EarlyStopping, ModelCheckpoint\n",
    "* Сохраните веса модели\n",
    "* Запуск инференса модели на одном образце из теста\n",
    "\n",
    "**Дополнительное задание (2 балла):**\n",
    "\n",
    "Напишите свою метрику, которой нет в Tochmetrics, например False discovery rate, формула выглядит так:\n",
    "\n",
    "<img src='https://i.imgur.com/pJgq8Bz.png' align='center'>\n",
    "\n",
    "The FDR is the rate that features called significant are truly null. An FDR of 5% means that, among all features called significant, 5% of these are truly null. false discovery rate (FDR) is a method of conceptualizing the rate of type I errors in null hypothesis testing when conducting multiple comparisons. FDR-controlling procedures are designed to control the FDR, which is the expected proportion of \"discoveries\" (rejected null hypotheses) that are false (incorrect rejections of the null). \n",
    "\n",
    "The false discovery rate difference metric calculates the amount of false positive transactions as a percentage of all transactions with a positive outcome.\n",
    "\n",
    "- FP — False Positives\n",
    "- TP — True Positives\n",
    "- FDR = 0 означает, что нет ложных положительных срабатываний (идеальный случай).\n",
    "- Подходит для задач с несбалансированными классами или когда ложные срабатывания критичны.\n",
    "\n",
    "\n",
    "И добавьте ее в модель, для логирования 🤗\n",
    "\n",
    "\n",
    "  \n",
    "Файл должен запускаться командой `python любое_имя.py` и отрабатывать до конца без падений."
   ]
  },
  {
   "cell_type": "markdown",
   "id": "c0861514-6c22-4366-bc39-3da09d6575d7",
   "metadata": {},
   "source": [
    "__What is FDR?__\n",
    "In summary,\n",
    "\n",
    "- P-value: Probability of observing the data (or more extreme) under the null hypothesis.\n",
    "\n",
    "- Q-value: Adjusted p-value that accounts for multiple comparisons, controlling FDR.\n",
    "\n",
    "- FDR: A rate, not a single value, controlling the proportion of false positives among all significant findings.\n"
   ]
  },
  {
   "cell_type": "code",
   "execution_count": 1,
   "id": "7768a9ff",
   "metadata": {
    "_cell_guid": "b1076dfc-b9ad-4769-8c92-a6c4dae69d19",
    "_uuid": "8f2839f25d086af736a60e9eeb907d3b93b6e0e5",
    "papermill": {
     "duration": 0.065149,
     "end_time": "2021-09-09T07:56:04.152997",
     "exception": false,
     "start_time": "2021-09-09T07:56:04.087848",
     "status": "completed"
    },
    "tags": []
   },
   "outputs": [],
   "source": [
    "import numpy as np\n",
    "import pandas as pd"
   ]
  },
  {
   "cell_type": "code",
   "execution_count": 2,
   "id": "a9abf0dd",
   "metadata": {
    "papermill": {
     "duration": 1.434109,
     "end_time": "2021-09-09T07:56:05.611005",
     "exception": false,
     "start_time": "2021-09-09T07:56:04.176896",
     "status": "completed"
    },
    "tags": []
   },
   "outputs": [],
   "source": [
    "import time\n",
    "import os\n",
    "import sys\n",
    "from tqdm import tqdm\n",
    "import matplotlib.pyplot as plt\n",
    "\n",
    "import torch\n",
    "from torch import nn\n",
    "from torch import optim\n",
    "from torch.nn import functional as F\n",
    "import torch.utils.data as data\n",
    "\n",
    "\n",
    "import torchvision\n",
    "import torchvision.transforms as transforms\n",
    "import torchvision.models as models"
   ]
  },
  {
   "cell_type": "code",
   "execution_count": 5,
   "id": "48b351c7",
   "metadata": {
    "papermill": {
     "duration": 0.083682,
     "end_time": "2021-09-09T07:56:05.732928",
     "exception": false,
     "start_time": "2021-09-09T07:56:05.649246",
     "status": "completed"
    },
    "tags": []
   },
   "outputs": [
    {
     "data": {
      "text/plain": [
       "True"
      ]
     },
     "execution_count": 5,
     "metadata": {},
     "output_type": "execute_result"
    }
   ],
   "source": [
    "torch.cuda.is_available()"
   ]
  },
  {
   "cell_type": "markdown",
   "id": "96f35683-d296-441b-b67e-1ffa0dd9b174",
   "metadata": {},
   "source": [
    "# Загружаем датасет Sign Language MNIST\n",
    "\n",
    "Датасет представляет из себя 2 CSV файла - трэйн и тест сплиты. \n",
    "Каждая запись представляет из себя: \n",
    "* метку (номер буквы в алфавите)\n",
    "* значения каждого из 780 пикселей изображения.\n",
    "\n",
    "<img src=\"https://i.imgur.com/aF6eCw4.png\" align=\"left\" />"
   ]
  },
  {
   "cell_type": "code",
   "execution_count": 16,
   "id": "ae47bd54-5944-4ed1-908f-241bc7a9af9a",
   "metadata": {},
   "outputs": [],
   "source": [
    "%%capture\n",
    "# Для запуска в колаб\n",
    "# !mkdir ../data/\n",
    "# !wget -P ../data https://github.com/a-milenkin/ml_instruments/raw/refs/heads/main/data/sign_mnist_train.csv.zip\n",
    "# !wget -P ../data https://github.com/a-milenkin/ml_instruments/raw/refs/heads/main/data/sign_mnist_test.csv.zip\n",
    "# !wget -P ../data https://github.com/a-milenkin/ml_instruments/raw/refs/heads/main/data/amer_sign2.png\n",
    "# !wget -P ../data https://github.com/a-milenkin/ml_instruments/raw/refs/heads/main/data/amer_sign3.png\n",
    "# !wget -P ../data https://github.com/a-milenkin/ml_instruments/raw/refs/heads/main/data/american_sign_language.PNG\n",
    "\n",
    "!unzip ../data/sign_mnist_train.csv.zip -d ../data/\n",
    "!unzip ../data/sign_mnist_test.csv.zip -d ../data/"
   ]
  },
  {
   "cell_type": "code",
   "execution_count": null,
   "id": "6609f503",
   "metadata": {
    "papermill": {
     "duration": 4.781045,
     "end_time": "2021-09-09T07:56:10.583738",
     "exception": false,
     "start_time": "2021-09-09T07:56:05.802693",
     "status": "completed"
    },
    "tags": []
   },
   "outputs": [],
   "source": [
    "train = pd.read_csv('../data/sign_mnist_train.csv')\n",
    "test = pd.read_csv('../data/sign_mnist_test.csv')"
   ]
  },
  {
   "cell_type": "code",
   "execution_count": 18,
   "id": "ce25f7ab-f758-4ac1-8e12-a85908236a29",
   "metadata": {},
   "outputs": [
    {
     "data": {
      "text/html": [
       "<div>\n",
       "<style scoped>\n",
       "    .dataframe tbody tr th:only-of-type {\n",
       "        vertical-align: middle;\n",
       "    }\n",
       "\n",
       "    .dataframe tbody tr th {\n",
       "        vertical-align: top;\n",
       "    }\n",
       "\n",
       "    .dataframe thead th {\n",
       "        text-align: right;\n",
       "    }\n",
       "</style>\n",
       "<table border=\"1\" class=\"dataframe\">\n",
       "  <thead>\n",
       "    <tr style=\"text-align: right;\">\n",
       "      <th></th>\n",
       "      <th>label</th>\n",
       "      <th>pixel1</th>\n",
       "      <th>pixel2</th>\n",
       "      <th>pixel3</th>\n",
       "      <th>pixel4</th>\n",
       "      <th>pixel5</th>\n",
       "      <th>pixel6</th>\n",
       "      <th>pixel7</th>\n",
       "      <th>pixel8</th>\n",
       "      <th>pixel9</th>\n",
       "      <th>...</th>\n",
       "      <th>pixel775</th>\n",
       "      <th>pixel776</th>\n",
       "      <th>pixel777</th>\n",
       "      <th>pixel778</th>\n",
       "      <th>pixel779</th>\n",
       "      <th>pixel780</th>\n",
       "      <th>pixel781</th>\n",
       "      <th>pixel782</th>\n",
       "      <th>pixel783</th>\n",
       "      <th>pixel784</th>\n",
       "    </tr>\n",
       "  </thead>\n",
       "  <tbody>\n",
       "    <tr>\n",
       "      <th>0</th>\n",
       "      <td>3</td>\n",
       "      <td>107</td>\n",
       "      <td>118</td>\n",
       "      <td>127</td>\n",
       "      <td>134</td>\n",
       "      <td>139</td>\n",
       "      <td>143</td>\n",
       "      <td>146</td>\n",
       "      <td>150</td>\n",
       "      <td>153</td>\n",
       "      <td>...</td>\n",
       "      <td>207</td>\n",
       "      <td>207</td>\n",
       "      <td>207</td>\n",
       "      <td>207</td>\n",
       "      <td>206</td>\n",
       "      <td>206</td>\n",
       "      <td>206</td>\n",
       "      <td>204</td>\n",
       "      <td>203</td>\n",
       "      <td>202</td>\n",
       "    </tr>\n",
       "    <tr>\n",
       "      <th>1</th>\n",
       "      <td>6</td>\n",
       "      <td>155</td>\n",
       "      <td>157</td>\n",
       "      <td>156</td>\n",
       "      <td>156</td>\n",
       "      <td>156</td>\n",
       "      <td>157</td>\n",
       "      <td>156</td>\n",
       "      <td>158</td>\n",
       "      <td>158</td>\n",
       "      <td>...</td>\n",
       "      <td>69</td>\n",
       "      <td>149</td>\n",
       "      <td>128</td>\n",
       "      <td>87</td>\n",
       "      <td>94</td>\n",
       "      <td>163</td>\n",
       "      <td>175</td>\n",
       "      <td>103</td>\n",
       "      <td>135</td>\n",
       "      <td>149</td>\n",
       "    </tr>\n",
       "    <tr>\n",
       "      <th>2</th>\n",
       "      <td>2</td>\n",
       "      <td>187</td>\n",
       "      <td>188</td>\n",
       "      <td>188</td>\n",
       "      <td>187</td>\n",
       "      <td>187</td>\n",
       "      <td>186</td>\n",
       "      <td>187</td>\n",
       "      <td>188</td>\n",
       "      <td>187</td>\n",
       "      <td>...</td>\n",
       "      <td>202</td>\n",
       "      <td>201</td>\n",
       "      <td>200</td>\n",
       "      <td>199</td>\n",
       "      <td>198</td>\n",
       "      <td>199</td>\n",
       "      <td>198</td>\n",
       "      <td>195</td>\n",
       "      <td>194</td>\n",
       "      <td>195</td>\n",
       "    </tr>\n",
       "    <tr>\n",
       "      <th>3</th>\n",
       "      <td>2</td>\n",
       "      <td>211</td>\n",
       "      <td>211</td>\n",
       "      <td>212</td>\n",
       "      <td>212</td>\n",
       "      <td>211</td>\n",
       "      <td>210</td>\n",
       "      <td>211</td>\n",
       "      <td>210</td>\n",
       "      <td>210</td>\n",
       "      <td>...</td>\n",
       "      <td>235</td>\n",
       "      <td>234</td>\n",
       "      <td>233</td>\n",
       "      <td>231</td>\n",
       "      <td>230</td>\n",
       "      <td>226</td>\n",
       "      <td>225</td>\n",
       "      <td>222</td>\n",
       "      <td>229</td>\n",
       "      <td>163</td>\n",
       "    </tr>\n",
       "    <tr>\n",
       "      <th>4</th>\n",
       "      <td>13</td>\n",
       "      <td>164</td>\n",
       "      <td>167</td>\n",
       "      <td>170</td>\n",
       "      <td>172</td>\n",
       "      <td>176</td>\n",
       "      <td>179</td>\n",
       "      <td>180</td>\n",
       "      <td>184</td>\n",
       "      <td>185</td>\n",
       "      <td>...</td>\n",
       "      <td>92</td>\n",
       "      <td>105</td>\n",
       "      <td>105</td>\n",
       "      <td>108</td>\n",
       "      <td>133</td>\n",
       "      <td>163</td>\n",
       "      <td>157</td>\n",
       "      <td>163</td>\n",
       "      <td>164</td>\n",
       "      <td>179</td>\n",
       "    </tr>\n",
       "  </tbody>\n",
       "</table>\n",
       "<p>5 rows × 785 columns</p>\n",
       "</div>"
      ],
      "text/plain": [
       "   label  pixel1  pixel2  pixel3  pixel4  pixel5  pixel6  pixel7  pixel8  \\\n",
       "0      3     107     118     127     134     139     143     146     150   \n",
       "1      6     155     157     156     156     156     157     156     158   \n",
       "2      2     187     188     188     187     187     186     187     188   \n",
       "3      2     211     211     212     212     211     210     211     210   \n",
       "4     13     164     167     170     172     176     179     180     184   \n",
       "\n",
       "   pixel9  ...  pixel775  pixel776  pixel777  pixel778  pixel779  pixel780  \\\n",
       "0     153  ...       207       207       207       207       206       206   \n",
       "1     158  ...        69       149       128        87        94       163   \n",
       "2     187  ...       202       201       200       199       198       199   \n",
       "3     210  ...       235       234       233       231       230       226   \n",
       "4     185  ...        92       105       105       108       133       163   \n",
       "\n",
       "   pixel781  pixel782  pixel783  pixel784  \n",
       "0       206       204       203       202  \n",
       "1       175       103       135       149  \n",
       "2       198       195       194       195  \n",
       "3       225       222       229       163  \n",
       "4       157       163       164       179  \n",
       "\n",
       "[5 rows x 785 columns]"
      ]
     },
     "execution_count": 18,
     "metadata": {},
     "output_type": "execute_result"
    }
   ],
   "source": [
    "train.head()"
   ]
  },
  {
   "cell_type": "code",
   "execution_count": 5,
   "id": "df029681-9392-47eb-9c9e-88518b5e980a",
   "metadata": {},
   "outputs": [
    {
     "data": {
      "text/html": [
       "<div>\n",
       "<style scoped>\n",
       "    .dataframe tbody tr th:only-of-type {\n",
       "        vertical-align: middle;\n",
       "    }\n",
       "\n",
       "    .dataframe tbody tr th {\n",
       "        vertical-align: top;\n",
       "    }\n",
       "\n",
       "    .dataframe thead th {\n",
       "        text-align: right;\n",
       "    }\n",
       "</style>\n",
       "<table border=\"1\" class=\"dataframe\">\n",
       "  <thead>\n",
       "    <tr style=\"text-align: right;\">\n",
       "      <th></th>\n",
       "      <th>label</th>\n",
       "      <th>pixel1</th>\n",
       "      <th>pixel2</th>\n",
       "      <th>pixel3</th>\n",
       "      <th>pixel4</th>\n",
       "      <th>pixel5</th>\n",
       "      <th>pixel6</th>\n",
       "      <th>pixel7</th>\n",
       "      <th>pixel8</th>\n",
       "      <th>pixel9</th>\n",
       "      <th>...</th>\n",
       "      <th>pixel775</th>\n",
       "      <th>pixel776</th>\n",
       "      <th>pixel777</th>\n",
       "      <th>pixel778</th>\n",
       "      <th>pixel779</th>\n",
       "      <th>pixel780</th>\n",
       "      <th>pixel781</th>\n",
       "      <th>pixel782</th>\n",
       "      <th>pixel783</th>\n",
       "      <th>pixel784</th>\n",
       "    </tr>\n",
       "  </thead>\n",
       "  <tbody>\n",
       "    <tr>\n",
       "      <th>0</th>\n",
       "      <td>6</td>\n",
       "      <td>149</td>\n",
       "      <td>149</td>\n",
       "      <td>150</td>\n",
       "      <td>150</td>\n",
       "      <td>150</td>\n",
       "      <td>151</td>\n",
       "      <td>151</td>\n",
       "      <td>150</td>\n",
       "      <td>151</td>\n",
       "      <td>...</td>\n",
       "      <td>138</td>\n",
       "      <td>148</td>\n",
       "      <td>127</td>\n",
       "      <td>89</td>\n",
       "      <td>82</td>\n",
       "      <td>96</td>\n",
       "      <td>106</td>\n",
       "      <td>112</td>\n",
       "      <td>120</td>\n",
       "      <td>107</td>\n",
       "    </tr>\n",
       "    <tr>\n",
       "      <th>1</th>\n",
       "      <td>5</td>\n",
       "      <td>126</td>\n",
       "      <td>128</td>\n",
       "      <td>131</td>\n",
       "      <td>132</td>\n",
       "      <td>133</td>\n",
       "      <td>134</td>\n",
       "      <td>135</td>\n",
       "      <td>135</td>\n",
       "      <td>136</td>\n",
       "      <td>...</td>\n",
       "      <td>47</td>\n",
       "      <td>104</td>\n",
       "      <td>194</td>\n",
       "      <td>183</td>\n",
       "      <td>186</td>\n",
       "      <td>184</td>\n",
       "      <td>184</td>\n",
       "      <td>184</td>\n",
       "      <td>182</td>\n",
       "      <td>180</td>\n",
       "    </tr>\n",
       "    <tr>\n",
       "      <th>2</th>\n",
       "      <td>10</td>\n",
       "      <td>85</td>\n",
       "      <td>88</td>\n",
       "      <td>92</td>\n",
       "      <td>96</td>\n",
       "      <td>105</td>\n",
       "      <td>123</td>\n",
       "      <td>135</td>\n",
       "      <td>143</td>\n",
       "      <td>147</td>\n",
       "      <td>...</td>\n",
       "      <td>68</td>\n",
       "      <td>166</td>\n",
       "      <td>242</td>\n",
       "      <td>227</td>\n",
       "      <td>230</td>\n",
       "      <td>227</td>\n",
       "      <td>226</td>\n",
       "      <td>225</td>\n",
       "      <td>224</td>\n",
       "      <td>222</td>\n",
       "    </tr>\n",
       "  </tbody>\n",
       "</table>\n",
       "<p>3 rows × 785 columns</p>\n",
       "</div>"
      ],
      "text/plain": [
       "   label  pixel1  pixel2  pixel3  pixel4  pixel5  pixel6  pixel7  pixel8  \\\n",
       "0      6     149     149     150     150     150     151     151     150   \n",
       "1      5     126     128     131     132     133     134     135     135   \n",
       "2     10      85      88      92      96     105     123     135     143   \n",
       "\n",
       "   pixel9  ...  pixel775  pixel776  pixel777  pixel778  pixel779  pixel780  \\\n",
       "0     151  ...       138       148       127        89        82        96   \n",
       "1     136  ...        47       104       194       183       186       184   \n",
       "2     147  ...        68       166       242       227       230       227   \n",
       "\n",
       "   pixel781  pixel782  pixel783  pixel784  \n",
       "0       106       112       120       107  \n",
       "1       184       184       182       180  \n",
       "2       226       225       224       222  \n",
       "\n",
       "[3 rows x 785 columns]"
      ]
     },
     "execution_count": 5,
     "metadata": {},
     "output_type": "execute_result"
    }
   ],
   "source": [
    "test.head(3)"
   ]
  },
  {
   "cell_type": "markdown",
   "id": "2024fe98",
   "metadata": {
    "papermill": {
     "duration": 0.023091,
     "end_time": "2021-09-09T07:56:05.779365",
     "exception": false,
     "start_time": "2021-09-09T07:56:05.756274",
     "status": "completed"
    },
    "tags": []
   },
   "source": [
    "## Определяем Pytorch Dataset and Dataloader:\n",
    "\n"
   ]
  },
  {
   "cell_type": "code",
   "execution_count": null,
   "id": "baa7fb5e",
   "metadata": {
    "papermill": {
     "duration": 0.031774,
     "end_time": "2021-09-09T07:56:10.639816",
     "exception": false,
     "start_time": "2021-09-09T07:56:10.608042",
     "status": "completed"
    },
    "tags": []
   },
   "outputs": [],
   "source": [
    "class SignLanguageDataset(data.Dataset):\n",
    "    \n",
    "    def __init__(self, df, transform=None):\n",
    "        \n",
    "        self.df = df\n",
    "        self.transform = transform\n",
    "        \n",
    "    def __len__(self):\n",
    "        return self.df.shape[0]\n",
    "    \n",
    "    def __getitem__(self, index):\n",
    "        \n",
    "        label = self.df.iloc[index, 0]\n",
    "        \n",
    "        img = self.df.iloc[index, 1:].values.reshape(28, 28)\n",
    "        img = torch.Tensor(img).unsqueeze(0)\n",
    "        if self.transform is not None:\n",
    "            img = self.transform(img)\n",
    "        \n",
    "        return img, label\n",
    "        "
   ]
  },
  {
   "cell_type": "code",
   "execution_count": 7,
   "id": "1c24c454",
   "metadata": {
    "papermill": {
     "duration": 0.029731,
     "end_time": "2021-09-09T07:56:10.744879",
     "exception": false,
     "start_time": "2021-09-09T07:56:10.715148",
     "status": "completed"
    },
    "tags": []
   },
   "outputs": [],
   "source": [
    "transforms4train = transforms.Compose([\n",
    "        #transforms.Normalize(159, 40),\n",
    "        transforms.RandomHorizontalFlip(p=0.1),\n",
    "        transforms.RandomApply([transforms.RandomRotation(degrees=(-180, 180))], p=0.2),\n",
    "]) "
   ]
  },
  {
   "cell_type": "code",
   "execution_count": 8,
   "id": "ec03f507",
   "metadata": {
    "papermill": {
     "duration": 0.028639,
     "end_time": "2021-09-09T07:56:10.796277",
     "exception": false,
     "start_time": "2021-09-09T07:56:10.767638",
     "status": "completed"
    },
    "tags": []
   },
   "outputs": [],
   "source": [
    "train_dataset = SignLanguageDataset(train, transform=transforms4train)\n",
    "test_dataset = SignLanguageDataset(test)"
   ]
  },
  {
   "cell_type": "code",
   "execution_count": 9,
   "id": "e5e9b25c",
   "metadata": {
    "papermill": {
     "duration": 0.033058,
     "end_time": "2021-09-09T07:56:10.852883",
     "exception": false,
     "start_time": "2021-09-09T07:56:10.819825",
     "status": "completed"
    },
    "tags": []
   },
   "outputs": [
    {
     "data": {
      "text/plain": [
       "(27455, 7172)"
      ]
     },
     "execution_count": 9,
     "metadata": {},
     "output_type": "execute_result"
    }
   ],
   "source": [
    "len(train_dataset), len(test_dataset)"
   ]
  },
  {
   "cell_type": "code",
   "execution_count": 10,
   "id": "d3c37342",
   "metadata": {
    "papermill": {
     "duration": 0.029895,
     "end_time": "2021-09-09T07:56:10.906023",
     "exception": false,
     "start_time": "2021-09-09T07:56:10.876128",
     "status": "completed"
    },
    "tags": []
   },
   "outputs": [],
   "source": [
    "train_loader = data.DataLoader(train_dataset, batch_size=200, shuffle=True, num_workers=2)\n",
    "test_loader = data.DataLoader(test_dataset, batch_size=200, shuffle=True, num_workers=2)"
   ]
  },
  {
   "cell_type": "markdown",
   "id": "b7a79b3f-280b-4ff1-af0c-d45ba17f6979",
   "metadata": {},
   "source": [
    "### Посмотрим как выглядит одно изображение из трэйна"
   ]
  },
  {
   "cell_type": "code",
   "execution_count": 11,
   "id": "740c7377",
   "metadata": {
    "papermill": {
     "duration": 0.029465,
     "end_time": "2021-09-09T07:56:10.692123",
     "exception": false,
     "start_time": "2021-09-09T07:56:10.662658",
     "status": "completed"
    },
    "tags": []
   },
   "outputs": [],
   "source": [
    "def show_img(img, label):\n",
    "    img = img.squeeze()\n",
    "    img = img*40. + 159.\n",
    "    imgnp = img.detach().numpy()\n",
    "    plt.imshow(img, interpolation='bicubic')\n",
    "    print(label)"
   ]
  },
  {
   "cell_type": "code",
   "execution_count": 12,
   "id": "b8eef04c",
   "metadata": {
    "papermill": {
     "duration": 0.33449,
     "end_time": "2021-09-09T07:56:11.264179",
     "exception": false,
     "start_time": "2021-09-09T07:56:10.929689",
     "status": "completed"
    },
    "tags": []
   },
   "outputs": [
    {
     "name": "stdout",
     "output_type": "stream",
     "text": [
      "torch.Size([200, 1, 28, 28])\n"
     ]
    }
   ],
   "source": [
    "trainiter = iter(train_loader)\n",
    "img, label = next(trainiter)\n",
    "print(img.shape)"
   ]
  },
  {
   "cell_type": "code",
   "execution_count": 13,
   "id": "edf76db2",
   "metadata": {
    "papermill": {
     "duration": 0.318818,
     "end_time": "2021-09-09T07:56:11.673468",
     "exception": false,
     "start_time": "2021-09-09T07:56:11.354650",
     "status": "completed"
    },
    "tags": []
   },
   "outputs": [
    {
     "name": "stdout",
     "output_type": "stream",
     "text": [
      "tensor(7)\n"
     ]
    },
    {
     "data": {
      "image/png": "[encoded data removed]",
      "text/plain": [
       "<Figure size 640x480 with 1 Axes>"
      ]
     },
     "metadata": {},
     "output_type": "display_data"
    }
   ],
   "source": [
    "show_img(img[0], label[0])"
   ]
  },
  {
   "cell_type": "code",
   "execution_count": 14,
   "id": "134cf2b1",
   "metadata": {
    "papermill": {
     "duration": 0.033606,
     "end_time": "2021-09-09T07:56:11.732820",
     "exception": false,
     "start_time": "2021-09-09T07:56:11.699214",
     "status": "completed"
    },
    "tags": []
   },
   "outputs": [],
   "source": [
    "def calc_out_size(img_size, kernel_size, stride=1, padding=1, dilation=1 ):\n",
    "    out_size = ((img_size + 2 * padding - (dilation * (kernel_size - 1) + 1 )) / stride) + 1\n",
    "    return int(out_size)"
   ]
  },
  {
   "cell_type": "code",
   "execution_count": 15,
   "id": "0b205bc7",
   "metadata": {
    "papermill": {
     "duration": 0.03469,
     "end_time": "2021-09-09T07:56:11.792361",
     "exception": false,
     "start_time": "2021-09-09T07:56:11.757671",
     "status": "completed"
    },
    "tags": []
   },
   "outputs": [
    {
     "data": {
      "text/plain": [
       "28"
      ]
     },
     "execution_count": 15,
     "metadata": {},
     "output_type": "execute_result"
    }
   ],
   "source": [
    "calc_out_size(28, 3)"
   ]
  },
  {
   "cell_type": "markdown",
   "id": "ae7de93c",
   "metadata": {
    "papermill": {
     "duration": 0.025399,
     "end_time": "2021-09-09T07:56:11.843261",
     "exception": false,
     "start_time": "2021-09-09T07:56:11.817862",
     "status": "completed"
    },
    "tags": []
   },
   "source": [
    "## Напишем простую сверточную нейросеть и обучим её:"
   ]
  },
  {
   "cell_type": "code",
   "execution_count": 18,
   "id": "8e6bacd3",
   "metadata": {
    "papermill": {
     "duration": 0.038187,
     "end_time": "2021-09-09T07:56:11.906661",
     "exception": false,
     "start_time": "2021-09-09T07:56:11.868474",
     "status": "completed"
    },
    "tags": []
   },
   "outputs": [],
   "source": [
    "class MyConvNet(nn.Module):\n",
    "    \n",
    "    def __init__(self, stride=1, dilation=1, n_classes=25):\n",
    "        \n",
    "        super(MyConvNet, self).__init__()\n",
    "        \n",
    "        self.stride = stride\n",
    "        self.dilation = dilation\n",
    "        self.n_classes = n_classes\n",
    "        \n",
    "        self.block1 = nn.Sequential(\n",
    "            #input=(batch, 1, 28, 28)\n",
    "            nn.Conv2d(in_channels=1, out_channels=8, kernel_size=3, padding=1, stride=self.stride, dilation=self.dilation),\n",
    "            nn.BatchNorm2d(8),\n",
    "            # (batch, 8, 28, 28)\n",
    "            nn.AvgPool2d(2),\n",
    "            # (batch, 8, 14, 14)\n",
    "            nn.ReLU()\n",
    "            )\n",
    "        \n",
    "        self.block2 = nn.Sequential(\n",
    "            nn.Conv2d(in_channels=8, out_channels=16, kernel_size=3, padding=1, stride=self.stride, dilation=self.dilation),\n",
    "            nn.BatchNorm2d(16),\n",
    "            # (batch, 16, 14, 14)\n",
    "            nn.AvgPool2d(2),\n",
    "            # (batch, 16, 7, 7)\n",
    "            nn.ReLU()\n",
    "        )\n",
    "        \n",
    "        self.lin1 = nn.Linear(in_features=16*7*7, out_features=100)\n",
    "        # (batch, 100)\n",
    "        self.act1 = nn.LeakyReLU()\n",
    "        self.drop1 = nn.Dropout(p=0.3)\n",
    "        self.lin2 = nn.Linear(100, self.n_classes)\n",
    "        # (batch, 25)\n",
    "    \n",
    "    def forward(self, x):\n",
    "        \n",
    "        x = self.block1(x)\n",
    "        x = self.block2(x)\n",
    "        x = x.view((x.shape[0], -1))\n",
    "        x = self.lin1(x)\n",
    "        x = self.act1(x)\n",
    "        x = self.drop1(x)\n",
    "        x = self.lin2(x)\n",
    "        \n",
    "        return x"
   ]
  },
  {
   "cell_type": "code",
   "execution_count": 19,
   "id": "62ed7593",
   "metadata": {
    "papermill": {
     "duration": 0.040137,
     "end_time": "2021-09-09T07:56:11.971703",
     "exception": false,
     "start_time": "2021-09-09T07:56:11.931566",
     "status": "completed"
    },
    "tags": []
   },
   "outputs": [
    {
     "data": {
      "text/plain": [
       "MyConvNet(\n",
       "  (block1): Sequential(\n",
       "    (0): Conv2d(1, 8, kernel_size=(3, 3), stride=(1, 1), padding=(1, 1))\n",
       "    (1): BatchNorm2d(8, eps=1e-05, momentum=0.1, affine=True, track_running_stats=True)\n",
       "    (2): AvgPool2d(kernel_size=2, stride=2, padding=0)\n",
       "    (3): ReLU()\n",
       "  )\n",
       "  (block2): Sequential(\n",
       "    (0): Conv2d(8, 16, kernel_size=(3, 3), stride=(1, 1), padding=(1, 1))\n",
       "    (1): BatchNorm2d(16, eps=1e-05, momentum=0.1, affine=True, track_running_stats=True)\n",
       "    (2): AvgPool2d(kernel_size=2, stride=2, padding=0)\n",
       "    (3): ReLU()\n",
       "  )\n",
       "  (lin1): Linear(in_features=784, out_features=100, bias=True)\n",
       "  (act1): LeakyReLU(negative_slope=0.01)\n",
       "  (drop1): Dropout(p=0.3, inplace=False)\n",
       "  (lin2): Linear(in_features=100, out_features=25, bias=True)\n",
       ")"
      ]
     },
     "execution_count": 19,
     "metadata": {},
     "output_type": "execute_result"
    }
   ],
   "source": [
    "model = MyConvNet()\n",
    "model"
   ]
  },
  {
   "cell_type": "code",
   "execution_count": 20,
   "id": "671a3994",
   "metadata": {
    "papermill": {
     "duration": 0.098828,
     "end_time": "2021-09-09T07:56:12.095991",
     "exception": false,
     "start_time": "2021-09-09T07:56:11.997163",
     "status": "completed"
    },
    "tags": []
   },
   "outputs": [
    {
     "name": "stdout",
     "output_type": "stream",
     "text": [
      "torch.Size([20, 8, 14, 14])\n",
      "torch.Size([20, 16, 7, 7])\n",
      "torch.Size([20, 25])\n"
     ]
    }
   ],
   "source": [
    "# Проверяем\n",
    "sample_batch = torch.ones(20, 1, 28, 28)\n",
    "print(model.block1(sample_batch).shape)\n",
    "print(model.block2(model.block1(sample_batch)).shape)\n",
    "print(model(sample_batch).shape)"
   ]
  },
  {
   "cell_type": "markdown",
   "id": "c48130d2",
   "metadata": {
    "papermill": {
     "duration": 0.026083,
     "end_time": "2021-09-09T07:56:12.148020",
     "exception": false,
     "start_time": "2021-09-09T07:56:12.121937",
     "status": "completed"
    },
    "tags": []
   },
   "source": [
    "## Напишем циклы тренировки и валидации модели:"
   ]
  },
  {
   "cell_type": "code",
   "execution_count": 21,
   "id": "df782e66",
   "metadata": {
    "papermill": {
     "duration": 0.035739,
     "end_time": "2021-09-09T07:56:12.209948",
     "exception": false,
     "start_time": "2021-09-09T07:56:12.174209",
     "status": "completed"
    },
    "tags": []
   },
   "outputs": [],
   "source": [
    "def eval_model(model, criterion, test_loader, cuda=True):\n",
    "    \n",
    "    if cuda:\n",
    "        model = model.cuda()\n",
    "    \n",
    "    model = model.eval()\n",
    "    \n",
    "    running_loss = 0.\n",
    "    num_correct = 0.\n",
    "    num_total = 0.\n",
    "    \n",
    "    for batch, labels in test_loader:\n",
    "        \n",
    "        if cuda:\n",
    "            batch = batch.cuda()\n",
    "            labels = labels.cuda()\n",
    "        \n",
    "        out = model(batch)\n",
    "        pred_labels = out.argmax(dim=1)\n",
    "        num_correct += float((pred_labels == labels).sum())\n",
    "        \n",
    "        loss = criterion(out, labels)\n",
    "        running_loss += loss.data.cpu()\n",
    "        \n",
    "        num_total += labels.shape[0]\n",
    "    \n",
    "    mean_loss = running_loss / num_total\n",
    "    accuracy = num_correct / num_total\n",
    "    \n",
    "    return mean_loss, accuracy\n",
    "        \n",
    "        "
   ]
  },
  {
   "cell_type": "code",
   "execution_count": 22,
   "id": "d443bd98",
   "metadata": {
    "papermill": {
     "duration": 0.038949,
     "end_time": "2021-09-09T07:56:12.274962",
     "exception": false,
     "start_time": "2021-09-09T07:56:12.236013",
     "status": "completed"
    },
    "tags": []
   },
   "outputs": [],
   "source": [
    "def train_model(n_epochs, model, optimizer, criterion, train_loader, test_loader, cuda=True):\n",
    "    \n",
    "    if cuda:\n",
    "        model = model.cuda()\n",
    "    \n",
    "    model = model.train()\n",
    "    \n",
    "    train_loss, train_acc = [], []\n",
    "    test_loss, test_acc = [], []\n",
    "    \n",
    "    for epoch in range(n_epochs):\n",
    "        t0 = time.perf_counter()\n",
    "        \n",
    "        running_loss = 0.\n",
    "        num_correct = 0.\n",
    "        num_total = 0.\n",
    "        \n",
    "        for batch, labels in train_loader:\n",
    "            if cuda:\n",
    "                batch = batch.cuda()\n",
    "                labels = labels.cuda()\n",
    "            \n",
    "            optimizer.zero_grad()\n",
    "            \n",
    "            out = model(batch)\n",
    "            pred_labels = out.argmax(dim=1)\n",
    "            num_correct += float((pred_labels == labels).sum())\n",
    "            num_total += labels.shape[0]\n",
    "            \n",
    "              \n",
    "            loss = criterion(out, labels)\n",
    "            running_loss += loss\n",
    "            loss.backward()\n",
    "            optimizer.step()\n",
    "        \n",
    "        epoch_loss = running_loss / num_total\n",
    "        epoch_acc = num_correct / num_total\n",
    "        \n",
    "        train_loss.append(epoch_loss.data.cpu())\n",
    "        train_acc.append(epoch_acc)\n",
    "        \n",
    "        t_loss, t_acc = eval_model(model, criterion, test_loader, cuda=True)\n",
    "        \n",
    "        test_loss.append(t_loss.data.cpu())\n",
    "        test_acc.append(t_acc)\n",
    "        \n",
    "        t1 = time.perf_counter()\n",
    "        \n",
    "        delta_t = t1 - t0\n",
    "        print(f\"EPOCH {epoch} ({round(delta_t, 4)} s.): train loss - {epoch_loss}, train accuracy - {epoch_acc}; test loss - {t_loss}, test accuracy - {t_acc}\")\n",
    "        \n",
    "    \n",
    "    return model, train_loss, train_acc, test_loss, test_acc        \n",
    "        \n",
    "        "
   ]
  },
  {
   "cell_type": "code",
   "execution_count": 23,
   "id": "dec9ee47",
   "metadata": {
    "papermill": {
     "duration": 0.033937,
     "end_time": "2021-09-09T07:56:12.335298",
     "exception": false,
     "start_time": "2021-09-09T07:56:12.301361",
     "status": "completed"
    },
    "tags": []
   },
   "outputs": [],
   "source": [
    "optimizer = optim.Adam(model.parameters(), lr=1e-3)\n",
    "criterion = nn.CrossEntropyLoss()"
   ]
  },
  {
   "cell_type": "code",
   "execution_count": 24,
   "id": "96107d69",
   "metadata": {
    "papermill": {
     "duration": 263.029003,
     "end_time": "2021-09-09T08:00:35.391180",
     "exception": false,
     "start_time": "2021-09-09T07:56:12.362177",
     "status": "completed"
    },
    "tags": []
   },
   "outputs": [
    {
     "name": "stdout",
     "output_type": "stream",
     "text": [
      "EPOCH 0 (5.8777 s.): train loss - 0.010819094255566597, train accuracy - 0.370497177199053; test loss - 0.005505149252712727, test accuracy - 0.6808421639709983\n",
      "EPOCH 1 (5.2161 s.): train loss - 0.00501619977876544, train accuracy - 0.7112001456929521; test loss - 0.002796648535877466, test accuracy - 0.819994422755159\n",
      "EPOCH 2 (5.228 s.): train loss - 0.003254197770729661, train accuracy - 0.8139501001639046; test loss - 0.0020754877477884293, test accuracy - 0.8636363636363636\n",
      "EPOCH 3 (5.2326 s.): train loss - 0.00263869552873075, train accuracy - 0.8430158441085412; test loss - 0.002056065248325467, test accuracy - 0.8742331288343558\n",
      "EPOCH 4 (5.3607 s.): train loss - 0.002227179706096649, train accuracy - 0.8650883263522127; test loss - 0.002122960053384304, test accuracy - 0.8701896263245956\n",
      "EPOCH 5 (5.2327 s.): train loss - 0.002039278158918023, train accuracy - 0.8734656710981606; test loss - 0.002323887776583433, test accuracy - 0.8752091466815394\n",
      "EPOCH 6 (5.3641 s.): train loss - 0.0018420014530420303, train accuracy - 0.8846476051720998; test loss - 0.0022186802234500647, test accuracy - 0.8714445064138315\n",
      "EPOCH 7 (5.2663 s.): train loss - 0.001661092508584261, train accuracy - 0.8956474230559097; test loss - 0.002230326645076275, test accuracy - 0.8812046848856665\n",
      "EPOCH 8 (5.3451 s.): train loss - 0.0016534494934603572, train accuracy - 0.894263340010927; test loss - 0.0020998234394937754, test accuracy - 0.8923591745677635\n",
      "EPOCH 9 (5.2888 s.): train loss - 0.001500691520050168, train accuracy - 0.9034419959934438; test loss - 0.0024847304448485374, test accuracy - 0.8831567205800335\n",
      "EPOCH 10 (5.3491 s.): train loss - 0.0014346142997965217, train accuracy - 0.9076670916044436; test loss - 0.0022012500558048487, test accuracy - 0.899888455103179\n",
      "EPOCH 11 (5.3449 s.): train loss - 0.001352849998511374, train accuracy - 0.9146603533054088; test loss - 0.0021087806671857834, test accuracy - 0.9067205800334635\n",
      "EPOCH 12 (5.3737 s.): train loss - 0.001349460450001061, train accuracy - 0.9105809506465125; test loss - 0.002157892333343625, test accuracy - 0.8948689347462354\n",
      "EPOCH 13 (5.329 s.): train loss - 0.0012830570340156555, train accuracy - 0.9184119468220725; test loss - 0.0026064440608024597, test accuracy - 0.8766034578918015\n",
      "EPOCH 14 (5.2572 s.): train loss - 0.0011911735637113452, train accuracy - 0.922709888909124; test loss - 0.0020832966547459364, test accuracy - 0.8922197434467373\n",
      "EPOCH 15 (5.3017 s.): train loss - 0.001200071070343256, train accuracy - 0.9221271171007103; test loss - 0.0020582329016178846, test accuracy - 0.9063022866703848\n",
      "EPOCH 16 (5.1294 s.): train loss - 0.0011307625100016594, train accuracy - 0.9268257148060463; test loss - 0.0025741816498339176, test accuracy - 0.8813441160066927\n",
      "EPOCH 17 (5.2459 s.): train loss - 0.0011117843678221107, train accuracy - 0.9271899471863049; test loss - 0.0021042516455054283, test accuracy - 0.9035136642498606\n",
      "EPOCH 18 (5.2633 s.): train loss - 0.0010697380639612675, train accuracy - 0.9300673829903479; test loss - 0.002173245884478092, test accuracy - 0.8982152816508645\n",
      "EPOCH 19 (5.2257 s.): train loss - 0.001062495750375092, train accuracy - 0.9298852668002185; test loss - 0.002423288766294718, test accuracy - 0.8845510317902956\n"
     ]
    }
   ],
   "source": [
    "model, train_loss, train_acc, test_loss, test_acc = train_model(20, model, optimizer, criterion, train_loader, test_loader, cuda=True)"
   ]
  },
  {
   "cell_type": "code",
   "execution_count": 25,
   "id": "574b5cc6",
   "metadata": {
    "papermill": {
     "duration": 0.3556,
     "end_time": "2021-09-09T08:00:35.779075",
     "exception": false,
     "start_time": "2021-09-09T08:00:35.423475",
     "status": "completed"
    },
    "tags": []
   },
   "outputs": [
    {
     "data": {
      "text/plain": [
       "Text(0.5, 1.0, 'Accuracy')"
      ]
     },
     "execution_count": 25,
     "metadata": {},
     "output_type": "execute_result"
    },
    {
     "data": {
      "image/png": "[encoded data removed]",
      "text/plain": [
       "<Figure size 1200x600 with 2 Axes>"
      ]
     },
     "metadata": {},
     "output_type": "display_data"
    }
   ],
   "source": [
    "# Посмотрим прогресс обучения на графиках\n",
    "fig, (ax1, ax2) = plt.subplots(1, 2, figsize=(12,6))\n",
    "ax1.plot(train_loss)\n",
    "ax1.plot(test_loss)\n",
    "ax1.legend(['train', 'test'])\n",
    "ax1.set_title('Loss')\n",
    "ax2.plot(train_acc)\n",
    "ax2.plot(test_acc)\n",
    "ax2.legend(['train', 'test'])\n",
    "ax2.set_title('Accuracy')"
   ]
  },
  {
   "cell_type": "code",
   "execution_count": 27,
   "id": "9c229f41",
   "metadata": {
    "papermill": {
     "duration": 0.047502,
     "end_time": "2021-09-09T08:00:35.859208",
     "exception": false,
     "start_time": "2021-09-09T08:00:35.811706",
     "status": "completed"
    },
    "tags": []
   },
   "outputs": [],
   "source": [
    "# Сохраним модель\n",
    "state = {'model': model.state_dict(),\n",
    "        'epoch': 20}\n",
    "torch.save(state, '../models/myconvnet_sign_lang.pth')"
   ]
  },
  {
   "cell_type": "markdown",
   "id": "a3e81c3b-8c70-4d09-9ece-f4e3e3277af1",
   "metadata": {},
   "source": [
    "## Посмотрим как модель предсказывает"
   ]
  },
  {
   "cell_type": "code",
   "execution_count": 28,
   "id": "18e570e2",
   "metadata": {
    "papermill": {
     "duration": 0.204851,
     "end_time": "2021-09-09T08:00:36.096681",
     "exception": false,
     "start_time": "2021-09-09T08:00:35.891830",
     "status": "completed"
    },
    "tags": []
   },
   "outputs": [],
   "source": [
    "testiter = iter(test_loader)\n",
    "img, label = next(testiter)\n",
    "model = model.cpu()"
   ]
  },
  {
   "cell_type": "code",
   "execution_count": 29,
   "id": "7bee5e3b-235f-4c14-bcdb-6afae42b41a8",
   "metadata": {
    "scrolled": true
   },
   "outputs": [
    {
     "name": "stdout",
     "output_type": "stream",
     "text": [
      "Fact: 22, Prediction: 20\n",
      "tensor(22)\n"
     ]
    },
    {
     "data": {
      "image/png": "[encoded data removed]",
      "text/plain": [
       "<Figure size 640x480 with 1 Axes>"
      ]
     },
     "metadata": {},
     "output_type": "display_data"
    }
   ],
   "source": [
    "idx=12\n",
    "pred = model(img)\n",
    "print(f'Fact: {label[idx]}, Prediction: {(torch.argmax(pred[idx], dim=0))}')\n",
    "show_img(img[idx], label[idx])"
   ]
  },
  {
   "cell_type": "markdown",
   "id": "b2650955-a5bb-4422-bbf6-504507112879",
   "metadata": {},
   "source": [
    "1. DataLoader создаётся через метод _make_dataloader c параметром shuffle. По лучшим практикам:\n",
    "\n",
    "- Для обучения – shuffle должно быть включено.\n",
    "\n",
    "- Для валидации и тестирования – shuffle должно быть отключено.\n",
    "\n",
    "\n",
    "2. Persistent workers.\n",
    "\n",
    "Добавление persistent_workers=True повышает скорость загрузки данных, если используется несколько воркеров.\n",
    "\n",
    "3. Логирование метрик с помощью torchmetrics\n"
   ]
  },
  {
   "cell_type": "markdown",
   "id": "09a68b23-11ff-47ef-8ab2-1e0c221e0248",
   "metadata": {},
   "source": [
    "### Запись файла для сдачи на Stepik"
   ]
  },
  {
   "cell_type": "code",
   "execution_count": 5,
   "id": "73e82967-7e38-45b6-8af2-a34302c10dd6",
   "metadata": {},
   "outputs": [
    {
     "name": "stdout",
     "output_type": "stream",
     "text": [
      "Overwriting homework03.py\n"
     ]
    }
   ],
   "source": [
    "%%writefile homework03.py\n",
    "#!/usr/bin/env python\n",
    "import argparse\n",
    "from io import BytesIO\n",
    "from zipfile import ZipFile\n",
    "from dataclasses import dataclass\n",
    "from pathlib import Path\n",
    "from typing import Optional, Dict, Any\n",
    "import torch.utils.data as data\n",
    "import os\n",
    "\n",
    "import pandas as pd\n",
    "import requests\n",
    "import numpy as np\n",
    "import matplotlib.pyplot as plt\n",
    "import torch\n",
    "from torch import nn, optim\n",
    "from torch.utils.data import Dataset, DataLoader\n",
    "from torchvision import transforms\n",
    "import lightning as pl\n",
    "from lightning import Trainer, LightningModule, LightningDataModule# Джентельменский наборчик\n",
    "from lightning.pytorch.callbacks import  ModelCheckpoint, EarlyStopping\n",
    "from sklearn.model_selection import train_test_split\n",
    "from torchmetrics import Metric\n",
    "import torchmetrics as tm\n",
    "\n",
    "# your code here\n",
    "@dataclass\n",
    "class CFG:\n",
    "    seed: int = 2025\n",
    "    accelerator: str = \"auto\"  # Автоматическое определение\n",
    "    devices: int = 1\n",
    "    dropout: float = 0.3\n",
    "    lr: float = 1e-3\n",
    "    batch_size: int = 200\n",
    "    test_size: float = 0.2\n",
    "    num_workers: int = min(2, os.cpu_count())\n",
    "    epochs: int = 10\n",
    "    gpus: int = 2\n",
    "    stride: int = 1\n",
    "    dilation: int =1\n",
    "    n_classes: int =25\n",
    "    model_name : str = \"myconvnet2_sign_lang.pth\"\n",
    "        \n",
    "    def __post_init__(self):\n",
    "        pl.seed_everything(self.seed)\n",
    "        # Автоматическое определение доступных устройств\n",
    "        if torch.cuda.is_available():\n",
    "            self.accelerator = \"gpu\"\n",
    "            self.devices = torch.cuda.device_count()\n",
    "        else:\n",
    "            self.accelerator = \"cpu\"\n",
    "            self.devices = 1\n",
    "\n",
    "# FDR\n",
    "class FalseDiscoveryRate(Metric):\n",
    "    def __init__(self, num_classes:int, average: str = \"macro\"):\n",
    "        super().__init__()\n",
    "\n",
    "        self.num_classes = num_classes\n",
    "        self.average = average\n",
    "\n",
    "        self.add_state(\"fp\", default=torch.zeros(num_classes), dist_reduce_fx=\"sum\")\n",
    "        self.add_state(\"tp\", default=torch.zeros(num_classes), dist_reduce_fx=\"sum\")\n",
    "\n",
    "    \n",
    "    def update(self, preds: torch.Tensor, target: torch.Tensor):\n",
    "        preds = torch.argmax(preds, dim=1)\n",
    "\n",
    "        for class_idx in range(self.num_classes):\n",
    "            pred_is_class = preds == class_idx\n",
    "            true_is_class = target == class_idx\n",
    "\n",
    "            self.fp[class_idx] += torch.sum(pred_is_class & ~true_is_class)\n",
    "            self.tp[class_idx] += torch.sum(pred_is_class & true_is_class)\n",
    "            \n",
    "\n",
    "    def compute(self):\n",
    "        denom = self.fp + self.tp\n",
    "\n",
    "        fdr = torch.where(denom>0, self.fp / denom, torch.zeros_like(denom))\n",
    "        if self.average == \"macro\":\n",
    "            return fdr.mean()\n",
    "\n",
    "        elif self.average == \"micro\":\n",
    "            return self.fp.sum() / (self.fp.sum() + self.tp.sum())\n",
    "        \n",
    "# Dataset\n",
    "class SignLanguageDataset(data.Dataset):\n",
    "\n",
    "    \n",
    "    def __init__(self, df, transform: Optional[transforms.Compose] = None, is_train: bool = True):\n",
    "        \n",
    "        self.df = df\n",
    "        self.transform = transform\n",
    "        self.is_train = is_train\n",
    "\n",
    "        \n",
    "    def __len__(self):\n",
    "        return self.df.shape[0]\n",
    "    \n",
    "    def __getitem__(self, index):\n",
    "        \n",
    "        label = self.df.iloc[index, 0]\n",
    "        \n",
    "        img = self.df.iloc[index, 1:].values.reshape(28, 28)\n",
    "        img = torch.Tensor(img).unsqueeze(0)\n",
    "        if self.transform is not None:\n",
    "            img =self.transform(img)\n",
    "        \n",
    "        return img, label\n",
    "\n",
    "# Data Module\n",
    "class SignLanguageDataModule(LightningDataModule):\n",
    "    \n",
    "    def __init__(self, cfg: CFG):\n",
    "        super().__init__()\n",
    "        \n",
    "        self.cfg = cfg\n",
    "        self.train_transform = transforms.Compose([\n",
    "        #transforms.Normalize(159, 40),\n",
    "        transforms.RandomHorizontalFlip(p=0.1),\n",
    "        transforms.RandomApply([transforms.RandomRotation(degrees=(-180, 180))], p=0.2),\n",
    "    ])\n",
    "            \n",
    "    def prepare_data(self):\n",
    "        \"\"\"Download and prepare data (called once)\"\"\"\n",
    "        self.train_df = self._read_zip_csv(\n",
    "            \"https://github.com/a-milenkin/ml_instruments/raw/main/data/sign_mnist_train.csv.zip\"\n",
    "        )\n",
    "        self.test_df = self._read_zip_csv(\n",
    "            \"https://github.com/a-milenkin/ml_instruments/raw/main/data/sign_mnist_test.csv.zip\"\n",
    "        )\n",
    "\n",
    "\n",
    "    def setup(self, stage=None):\n",
    "        if stage == \"fit\" or stage is None:\n",
    "            train_df, val_df = train_test_split(\n",
    "                self.train_df, \n",
    "                test_size=self.cfg.test_size,\n",
    "                stratify=self.train_df.iloc[:, 0]\n",
    "            )\n",
    "            \n",
    "            self.train = SignLanguageDataset(train_df, self.train_transform)\n",
    "            self.val = SignLanguageDataset(val_df, is_train=False)\n",
    "            \n",
    "        if stage == \"test\" or stage is None:\n",
    "            self.test = SignLanguageDataset(self.test_df, is_train=False)\n",
    "                     \n",
    "    def _make_dataloader(self, dataset, shuffle: bool = True):\n",
    "        return DataLoader(\n",
    "            dataset,\n",
    "            batch_size=self.cfg.batch_size,\n",
    "            shuffle=shuffle,\n",
    "            num_workers=self.cfg.num_workers,\n",
    "            pin_memory=True,\n",
    "            persistent_workers=True  # Рекомендуется для ускорения загрузки данных\n",
    "    \n",
    "        )\n",
    "    \n",
    "    def _read_zip_csv(self, url: str) -> pd.DataFrame:\n",
    "        \"\"\"Helper to read CSV from ZIP\"\"\"\n",
    "        try:\n",
    "            response = requests.get(url, timeout=10)\n",
    "            response.raise_for_status()\n",
    "        except requests.exceptions.RequestException as e:\n",
    "            raise\n",
    "\n",
    "        with ZipFile(BytesIO(response.content)) as zip_file:\n",
    "            csv_files = [f for f in zip_file.namelist() \n",
    "                        if f.endswith('.csv') and '__MACOSX' not in f]\n",
    "            if len(csv_files) != 1:\n",
    "                raise ValueError(f\"Expected 1 CSV, found {len(csv_files)}\")\n",
    "                \n",
    "            with zip_file.open(csv_files[0]) as f:\n",
    "                return pd.read_csv(f)\n",
    "            \n",
    "    def train_dataloader(self)-> DataLoader:\n",
    "        # Возвращаем Train Dataloader\n",
    "        return self._make_dataloader(self.train, shuffle=True)\n",
    "    \n",
    "    def val_dataloader(self)-> DataLoader:\n",
    "        # Возвращаем Valid Dataset\n",
    "        return self._make_dataloader(self.val, shuffle=False)\n",
    "        \n",
    "    def test_dataloader(self) -> DataLoader:\n",
    "        return self._make_dataloader(self.test, shuffle=False)\n",
    "    \n",
    "# Model\n",
    "class MyConvNetLightning(LightningModule):\n",
    "    \n",
    "    def __init__(self, cfg: CFG):\n",
    "        super().__init__()\n",
    "        self.cfg = cfg\n",
    "        self.lr = cfg.lr\n",
    "        self.stride = cfg.stride\n",
    "        self.dilation = cfg.dilation\n",
    "        self.n_classes = cfg.n_classes\n",
    "\n",
    "        # позволяет группировать сразу несколько метрик\n",
    "        self.train_metrics = tm.MetricCollection({\n",
    "            \"accuracy\": tm.Accuracy(task=\"multiclass\", num_classes=self.n_classes),\n",
    "            \"auroc\": tm.AUROC(task=\"multiclass\", num_classes=self.n_classes),\n",
    "            \"fdr\": FalseDiscoveryRate(num_classes=self.n_classes)\n",
    "        })\n",
    "        self.valid_metrics = tm.MetricCollection({\n",
    "            \"accuracy\": tm.Accuracy(task=\"multiclass\", num_classes=self.n_classes),\n",
    "            \"auroc\": tm.AUROC(task=\"multiclass\", num_classes=self.n_classes),\n",
    "            \"fdr\": FalseDiscoveryRate(num_classes=self.n_classes)\n",
    "        })\n",
    "\n",
    "        \n",
    "        \n",
    "        self.model = nn.Sequential(\n",
    "            #input=(batch, 1, 28, 28)\n",
    "            nn.Conv2d(in_channels=1, out_channels=8, kernel_size=3, padding=1, stride=self.stride, dilation=self.dilation),\n",
    "            nn.BatchNorm2d(8),\n",
    "            # (batch, 8, 28, 28)\n",
    "            nn.AvgPool2d(2),\n",
    "            # (batch, 8, 14, 14)\n",
    "            nn.ReLU(),\n",
    "            nn.Conv2d(in_channels=8, out_channels=16, kernel_size=3, padding=1, stride=self.stride, dilation=self.dilation),\n",
    "            nn.BatchNorm2d(16),\n",
    "            # (batch, 16, 14, 14)\n",
    "            nn.AvgPool2d(2),\n",
    "            # (batch, 16, 7, 7)\n",
    "            nn.ReLU()\n",
    "            )\n",
    "        \n",
    "        self.lin1 = nn.Linear(in_features=16*7*7, out_features=100)\n",
    "        # (batch, 100)\n",
    "        self.act1 = nn.LeakyReLU()\n",
    "        self.drop1 = nn.Dropout(p=cfg.dropout)\n",
    "        self.lin2 = nn.Linear(100, self.n_classes)\n",
    "        # (batch, 25)\n",
    "        \n",
    "        self.criterion = nn.CrossEntropyLoss()\n",
    "    \n",
    "    def forward(self, x):\n",
    "        \n",
    "        x = self.model(x)\n",
    "        x = x.view((x.shape[0], -1))\n",
    "        x = self.lin1(x)\n",
    "        x = self.act1(x)\n",
    "        x = self.drop1(x)\n",
    "        x = self.lin2(x)\n",
    "        \n",
    "        return x\n",
    "\n",
    "\n",
    "\n",
    "    # унифицировать код training_step и validation_step\n",
    "    def _shared_step(self, batch):\n",
    "        x, y = batch\n",
    "        logits = self(x)\n",
    "        loss = self.criterion(logits, y)\n",
    "        return logits, y, loss\n",
    "\n",
    "    def training_step(self, batch, batch_idx):\n",
    "        logits, y, loss = self._shared_step(batch)\n",
    "        self.train_metrics.update(logits, y)\n",
    "        self.log(\"train/loss\", loss, prog_bar=True, on_step=False, on_epoch=True)\n",
    "        return loss\n",
    "\n",
    "    def validation_step(self, batch, batch_idx):\n",
    "        logits, y, loss = self._shared_step(batch)\n",
    "        self.valid_metrics.update(logits, y)\n",
    "        self.log(\"val/loss\", loss, prog_bar=True, on_step=False, on_epoch=True)\n",
    "        return loss\n",
    "\n",
    "    def test_step(self, batch, batch_idx):\n",
    "        x, y = batch\n",
    "        logits = self(x)\n",
    "        loss = self.criterion(logits, y)\n",
    "        acc = (logits.argmax(dim=1) == y).float().mean()\n",
    "        self.log(\"test/loss\", loss, prog_bar=True)\n",
    "        self.log(\"test/acc\", acc, prog_bar=True)\n",
    "        return loss\n",
    "\n",
    "    def on_train_epoch_end(self):\n",
    "        # Вычисляем агрегированную метрику и сбрасываем для следующей эпохи\n",
    "        metrics = self.train_metrics.compute()\n",
    "        # self.log_dict({f\"train/{k}\": v for k, v in metrics.items()}, prog_bar=True)\n",
    "        self.log_dict(metrics, prog_bar=True)\n",
    "        self.train_metrics.reset()\n",
    "\n",
    "    def on_validation_epoch_end(self):\n",
    "        metrics = self.valid_metrics.compute()\n",
    "        self.log_dict(metrics, prog_bar=True)\n",
    "        self.valid_metrics.reset()\n",
    "\n",
    "    \n",
    "    def configure_optimizers(self):\n",
    "        optimizer = optim.AdamW(self.parameters(), lr=self.lr)\n",
    "        scheduler = optim.lr_scheduler.ReduceLROnPlateau(\n",
    "            optimizer,\n",
    "            patience=2, # Сколько эпох ждать без улучшения\n",
    "            verbose=True, # Печатать, когда LR меняется\n",
    "            factor=0.5, # Насколько уменьшить LR (в 2 раза, 0.1 = в 10 раз)\n",
    "            mode='min', # Что хотим минимизировать (например, val_loss)\n",
    "        )\n",
    "        \n",
    "        return {\n",
    "            \"optimizer\": optimizer,\n",
    "            \"lr_scheduler\": {\n",
    "                \"scheduler\": scheduler,\n",
    "                \"monitor\": \"train/loss\" # Должно совпадать с логгируемым именем\n",
    "            }\n",
    "        }\n",
    "    \n",
    "def main(args, cfg):\n",
    "\n",
    "    dataset = SignLanguageDataModule(cfg)\n",
    "    dataset.prepare_data()\n",
    "    dataset.setup(\"fit\")\n",
    "    \n",
    "    model = MyConvNetLightning(cfg)\n",
    "    \n",
    "    # Trainer\n",
    "    trainer = Trainer(\n",
    "        accelerator=cfg.accelerator,\n",
    "        max_epochs=cfg.epochs,\n",
    "        devices=cfg.devices if cfg.accelerator == \"gpu\" else \"auto\",\n",
    "        log_every_n_steps=1,\n",
    "        check_val_every_n_epoch=2, # Запускаем проверку val-части каждые 2 эпохи\n",
    "        # val_check_interval=0.2 # Запускать valid проверку каждые 0.2*epochs\n",
    "        # enable_checkpointing=not args.fast_dev_run, # отключение чекпоинтов в режиме разработки\n",
    "        fast_dev_run=args.fast_dev_run,\n",
    "        callbacks=[\n",
    "            EarlyStopping( # Подключаем EarlyStopping\n",
    "                monitor='val/loss', # Какую метрику отлавливаем\n",
    "                patience=3, # Сколько эпох валидации внимательно наблюдаем\n",
    "                verbose=True, # Вывод как улучшается ил ухудшается метрика\n",
    "            ),\n",
    "            ModelCheckpoint( # Сохранение нескольких весов модели\n",
    "                monitor='val/loss',\n",
    "                mode=\"min\",\n",
    "                filename=\"best-{epoch}-{val_acc:.2f}\",\n",
    "                dirpath=f\"../models/{cfg.model_name}\", # Сохранение модели\n",
    "                enable_version_counter=True, # Не затираем старые веса!\n",
    "                # auto_insert_metric_name=True, # Сохраняем метрики в названии модели\n",
    "                save_top_k=3 # Сохраняем 3 лучших модели\n",
    "            )] \n",
    "        )\n",
    "    \n",
    "    if args.fast_dev_run:\n",
    "        try:\n",
    "#             trainer.test(datamodule=dataset, ckpt_path=\"best\")\n",
    "            trainer.validate(model, datamodule=dataset)\n",
    "            print(\"Тестовый прогон успешно пройден\")\n",
    "        except Exception as err:\n",
    "            print(f\"Тестовый прогон завершился с ошибкой {err}\")\n",
    "            return\n",
    "    else:\n",
    "        # Полный цикл обучения + тестирование\n",
    "        trainer.fit(model, datamodule=dataset)\n",
    "        trainer.test(model, datamodule=dataset) \n",
    "        \n",
    "    \n",
    "        # Инференс на одном образце\n",
    "        dataset.setup(\"test\")\n",
    "        model.eval()\n",
    "        sample_img, true_label = dataset.test[0]\n",
    "        sample = sample_img.unsqueeze(0)  # берём первый образец из теста\n",
    "        with torch.no_grad():\n",
    "            pred = model(sample)\n",
    "            predicted_class = pred.argmax(dim=1).item()\n",
    "            print(f\"Инференс на одном примере: Fact: {true_label}, Prediction:{predicted_class}\")\n",
    "\n",
    "\n",
    "if __name__ == \"__main__\":\n",
    "    # your code here\n",
    "    parser = argparse.ArgumentParser()\n",
    "    \n",
    "    # определён через action=\"store_true\". При таком способе использования флаг устанавливается в True\n",
    "    # , если он присутствует, и не требует передачи дополнительного значения. \n",
    "    # То есть, для включения режима fast_dev_run достаточно указать просто флаг без параметров.\n",
    "    parser.add_argument(\"--fast_dev_run\", action=\"store_true\")\n",
    "    args = parser.parse_args()\n",
    "                                                                                       \n",
    "    cfg = CFG()\n",
    "  \n",
    "    main(args, cfg)"
   ]
  },
  {
   "cell_type": "markdown",
   "id": "865df5a1-513f-4667-8e86-2acd2fb99b5b",
   "metadata": {},
   "source": [
    "**Проверка работоспособности**"
   ]
  },
  {
   "cell_type": "code",
   "execution_count": null,
   "id": "84db62e2-d15d-455a-868e-975cb1b42d99",
   "metadata": {},
   "outputs": [],
   "source": [
    "!python example.py"
   ]
  }
 ],
 "metadata": {
  "kernelspec": {
   "display_name": "Python 3 (ipykernel)",
   "language": "python",
   "name": "python3"
  },
  "language_info": {
   "codemirror_mode": {
    "name": "ipython",
    "version": 3
   },
   "file_extension": ".py",
   "mimetype": "text/x-python",
   "name": "python",
   "nbconvert_exporter": "python",
   "pygments_lexer": "ipython3",
   "version": "3.11.4"
  },
  "papermill": {
   "default_parameters": {},
   "duration": 767.876621,
   "end_time": "2021-09-09T08:08:45.423623",
   "environment_variables": {},
   "exception": null,
   "input_path": "__notebook__.ipynb",
   "output_path": "__notebook__.ipynb",
   "parameters": {},
   "start_time": "2021-09-09T07:55:57.547002",
   "version": "2.3.3"
  }
 },
 "nbformat": 4,
 "nbformat_minor": 5
}
